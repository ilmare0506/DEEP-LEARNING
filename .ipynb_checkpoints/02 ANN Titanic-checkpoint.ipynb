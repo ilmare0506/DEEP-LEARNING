{
 "cells": [
  {
   "cell_type": "markdown",
   "metadata": {},
   "source": [
    "# 02 ANN AVEC DES DONNEES\n"
   ]
  },
  {
   "cell_type": "markdown",
   "metadata": {},
   "source": [
    "<img src = \"images/neural network 3 layers.png\">\n"
   ]
  },
  {
   "cell_type": "markdown",
   "metadata": {},
   "source": [
    "## Importer les librairies"
   ]
  },
  {
   "cell_type": "code",
   "execution_count": 1,
   "metadata": {},
   "outputs": [],
   "source": [
    "# Tensorflow\n",
    "import tensorflow as tf\n",
    "from tensorflow.keras.models import Sequential\n",
    "from tensorflow.keras.layers import Dense\n",
    "\n",
    "# Matplotlib\n",
    "import matplotlib.pyplot as plt\n",
    "\n",
    "# Numpy and Pandas\n",
    "import numpy as np\n",
    "import pandas as pd\n",
    "\n",
    "\n",
    "from sklearn.preprocessing import StandardScaler"
   ]
  },
  {
   "cell_type": "markdown",
   "metadata": {},
   "source": [
    "## Importer le dataset"
   ]
  },
  {
   "cell_type": "code",
   "execution_count": 2,
   "metadata": {},
   "outputs": [],
   "source": [
    "dataset = pd.read_csv('datasets/titanic.csv')"
   ]
  },
  {
   "cell_type": "code",
   "execution_count": 3,
   "metadata": {},
   "outputs": [
    {
     "data": {
      "text/html": [
       "<div>\n",
       "<style scoped>\n",
       "    .dataframe tbody tr th:only-of-type {\n",
       "        vertical-align: middle;\n",
       "    }\n",
       "\n",
       "    .dataframe tbody tr th {\n",
       "        vertical-align: top;\n",
       "    }\n",
       "\n",
       "    .dataframe thead th {\n",
       "        text-align: right;\n",
       "    }\n",
       "</style>\n",
       "<table border=\"1\" class=\"dataframe\">\n",
       "  <thead>\n",
       "    <tr style=\"text-align: right;\">\n",
       "      <th></th>\n",
       "      <th>PassengerId</th>\n",
       "      <th>Name</th>\n",
       "      <th>Pclass</th>\n",
       "      <th>Sex</th>\n",
       "      <th>Age</th>\n",
       "      <th>SibSp</th>\n",
       "      <th>Parch</th>\n",
       "      <th>Ticket</th>\n",
       "      <th>Fare</th>\n",
       "      <th>Cabin</th>\n",
       "      <th>Embarked</th>\n",
       "      <th>Survived</th>\n",
       "    </tr>\n",
       "  </thead>\n",
       "  <tbody>\n",
       "    <tr>\n",
       "      <th>0</th>\n",
       "      <td>1</td>\n",
       "      <td>Braund, Mr. Owen Harris</td>\n",
       "      <td>3</td>\n",
       "      <td>male</td>\n",
       "      <td>22.0</td>\n",
       "      <td>1</td>\n",
       "      <td>0</td>\n",
       "      <td>A/5 21171</td>\n",
       "      <td>7.2500</td>\n",
       "      <td>NaN</td>\n",
       "      <td>S</td>\n",
       "      <td>0</td>\n",
       "    </tr>\n",
       "    <tr>\n",
       "      <th>1</th>\n",
       "      <td>2</td>\n",
       "      <td>Cumings, Mrs. John Bradley (Florence Briggs Th...</td>\n",
       "      <td>1</td>\n",
       "      <td>female</td>\n",
       "      <td>38.0</td>\n",
       "      <td>1</td>\n",
       "      <td>0</td>\n",
       "      <td>PC 17599</td>\n",
       "      <td>71.2833</td>\n",
       "      <td>C85</td>\n",
       "      <td>C</td>\n",
       "      <td>1</td>\n",
       "    </tr>\n",
       "    <tr>\n",
       "      <th>2</th>\n",
       "      <td>3</td>\n",
       "      <td>Heikkinen, Miss. Laina</td>\n",
       "      <td>3</td>\n",
       "      <td>female</td>\n",
       "      <td>26.0</td>\n",
       "      <td>0</td>\n",
       "      <td>0</td>\n",
       "      <td>STON/O2. 3101282</td>\n",
       "      <td>7.9250</td>\n",
       "      <td>NaN</td>\n",
       "      <td>S</td>\n",
       "      <td>1</td>\n",
       "    </tr>\n",
       "    <tr>\n",
       "      <th>3</th>\n",
       "      <td>4</td>\n",
       "      <td>Futrelle, Mrs. Jacques Heath (Lily May Peel)</td>\n",
       "      <td>1</td>\n",
       "      <td>female</td>\n",
       "      <td>35.0</td>\n",
       "      <td>1</td>\n",
       "      <td>0</td>\n",
       "      <td>113803</td>\n",
       "      <td>53.1000</td>\n",
       "      <td>C123</td>\n",
       "      <td>S</td>\n",
       "      <td>1</td>\n",
       "    </tr>\n",
       "    <tr>\n",
       "      <th>4</th>\n",
       "      <td>5</td>\n",
       "      <td>Allen, Mr. William Henry</td>\n",
       "      <td>3</td>\n",
       "      <td>male</td>\n",
       "      <td>35.0</td>\n",
       "      <td>0</td>\n",
       "      <td>0</td>\n",
       "      <td>373450</td>\n",
       "      <td>8.0500</td>\n",
       "      <td>NaN</td>\n",
       "      <td>S</td>\n",
       "      <td>0</td>\n",
       "    </tr>\n",
       "  </tbody>\n",
       "</table>\n",
       "</div>"
      ],
      "text/plain": [
       "   PassengerId                                               Name  Pclass  \\\n",
       "0            1                            Braund, Mr. Owen Harris       3   \n",
       "1            2  Cumings, Mrs. John Bradley (Florence Briggs Th...       1   \n",
       "2            3                             Heikkinen, Miss. Laina       3   \n",
       "3            4       Futrelle, Mrs. Jacques Heath (Lily May Peel)       1   \n",
       "4            5                           Allen, Mr. William Henry       3   \n",
       "\n",
       "      Sex   Age  SibSp  Parch            Ticket     Fare Cabin Embarked  \\\n",
       "0    male  22.0      1      0         A/5 21171   7.2500   NaN        S   \n",
       "1  female  38.0      1      0          PC 17599  71.2833   C85        C   \n",
       "2  female  26.0      0      0  STON/O2. 3101282   7.9250   NaN        S   \n",
       "3  female  35.0      1      0            113803  53.1000  C123        S   \n",
       "4    male  35.0      0      0            373450   8.0500   NaN        S   \n",
       "\n",
       "   Survived  \n",
       "0         0  \n",
       "1         1  \n",
       "2         1  \n",
       "3         1  \n",
       "4         0  "
      ]
     },
     "execution_count": 3,
     "metadata": {},
     "output_type": "execute_result"
    }
   ],
   "source": [
    "dataset.head()"
   ]
  },
  {
   "cell_type": "markdown",
   "metadata": {},
   "source": [
    "## Préparer les données"
   ]
  },
  {
   "cell_type": "code",
   "execution_count": 4,
   "metadata": {},
   "outputs": [],
   "source": [
    "#Premier tri\n",
    "dataset.drop(['PassengerId','Name','SibSp','Parch','Ticket','Cabin','Embarked'],axis='columns',inplace=True)"
   ]
  },
  {
   "cell_type": "code",
   "execution_count": 5,
   "metadata": {},
   "outputs": [
    {
     "data": {
      "text/html": [
       "<div>\n",
       "<style scoped>\n",
       "    .dataframe tbody tr th:only-of-type {\n",
       "        vertical-align: middle;\n",
       "    }\n",
       "\n",
       "    .dataframe tbody tr th {\n",
       "        vertical-align: top;\n",
       "    }\n",
       "\n",
       "    .dataframe thead th {\n",
       "        text-align: right;\n",
       "    }\n",
       "</style>\n",
       "<table border=\"1\" class=\"dataframe\">\n",
       "  <thead>\n",
       "    <tr style=\"text-align: right;\">\n",
       "      <th></th>\n",
       "      <th>Pclass</th>\n",
       "      <th>Sex</th>\n",
       "      <th>Age</th>\n",
       "      <th>Fare</th>\n",
       "      <th>Survived</th>\n",
       "    </tr>\n",
       "  </thead>\n",
       "  <tbody>\n",
       "    <tr>\n",
       "      <th>0</th>\n",
       "      <td>3</td>\n",
       "      <td>0</td>\n",
       "      <td>22.0</td>\n",
       "      <td>7.2500</td>\n",
       "      <td>0</td>\n",
       "    </tr>\n",
       "    <tr>\n",
       "      <th>1</th>\n",
       "      <td>1</td>\n",
       "      <td>1</td>\n",
       "      <td>38.0</td>\n",
       "      <td>71.2833</td>\n",
       "      <td>1</td>\n",
       "    </tr>\n",
       "    <tr>\n",
       "      <th>2</th>\n",
       "      <td>3</td>\n",
       "      <td>1</td>\n",
       "      <td>26.0</td>\n",
       "      <td>7.9250</td>\n",
       "      <td>1</td>\n",
       "    </tr>\n",
       "    <tr>\n",
       "      <th>3</th>\n",
       "      <td>1</td>\n",
       "      <td>1</td>\n",
       "      <td>35.0</td>\n",
       "      <td>53.1000</td>\n",
       "      <td>1</td>\n",
       "    </tr>\n",
       "    <tr>\n",
       "      <th>4</th>\n",
       "      <td>3</td>\n",
       "      <td>0</td>\n",
       "      <td>35.0</td>\n",
       "      <td>8.0500</td>\n",
       "      <td>0</td>\n",
       "    </tr>\n",
       "  </tbody>\n",
       "</table>\n",
       "</div>"
      ],
      "text/plain": [
       "   Pclass  Sex   Age     Fare  Survived\n",
       "0       3    0  22.0   7.2500         0\n",
       "1       1    1  38.0  71.2833         1\n",
       "2       3    1  26.0   7.9250         1\n",
       "3       1    1  35.0  53.1000         1\n",
       "4       3    0  35.0   8.0500         0"
      ]
     },
     "execution_count": 5,
     "metadata": {},
     "output_type": "execute_result"
    }
   ],
   "source": [
    "# Modification des variables catégoriques\n",
    "dataset.Sex = dataset.Sex.map({'male': 0, 'female': 1})\n",
    "dataset.head()\n"
   ]
  },
  {
   "cell_type": "code",
   "execution_count": 6,
   "metadata": {},
   "outputs": [],
   "source": [
    "# Séparation du dataset\n",
    "target = dataset.Survived.values\n",
    "dataset.drop(['Survived'],axis='columns',inplace=True)\n",
    "\n",
    "data = dataset.astype(float)\n",
    "data.Age = data.Age.fillna(data.Age.mean())\n",
    "data = data.values\n"
   ]
  },
  {
   "cell_type": "code",
   "execution_count": 7,
   "metadata": {},
   "outputs": [
    {
     "data": {
      "text/plain": [
       "array([[ 0.82737724, -0.73769513, -0.5924806 , -0.50244517],\n",
       "       [-1.56610693,  1.35557354,  0.63878901,  0.78684529],\n",
       "       [ 0.82737724,  1.35557354, -0.2846632 , -0.48885426],\n",
       "       ...,\n",
       "       [ 0.82737724,  1.35557354,  0.        , -0.17626324],\n",
       "       [-1.56610693, -0.73769513, -0.2846632 , -0.04438104],\n",
       "       [ 0.82737724, -0.73769513,  0.17706291, -0.49237783]])"
      ]
     },
     "execution_count": 7,
     "metadata": {},
     "output_type": "execute_result"
    }
   ],
   "source": [
    "scaler = StandardScaler()\n",
    "data = scaler.fit_transform(data)\n",
    "data"
   ]
  },
  {
   "cell_type": "markdown",
   "metadata": {},
   "source": [
    "## CREATION DU MODELE\n"
   ]
  },
  {
   "cell_type": "code",
   "execution_count": 8,
   "metadata": {},
   "outputs": [],
   "source": [
    "model = Sequential()\n",
    "\n",
    "# Add the layers\n",
    "model.add(Dense(4, activation=\"relu\"))\n",
    "\n",
    "model.add(Dense(256, activation=\"relu\"))\n",
    "model.add(Dense(128, activation=\"relu\"))\n",
    "model.add(Dense(2, activation=\"sigmoid\"))\n",
    "\n",
    "# Compile the model\n",
    "model.compile(\n",
    "    loss=\"sparse_categorical_crossentropy\",\n",
    "    optimizer=\"sgd\",\n",
    "    metrics=[\"accuracy\"]\n",
    ")\n"
   ]
  },
  {
   "cell_type": "markdown",
   "metadata": {},
   "source": [
    "## ENTRAINEMENT"
   ]
  },
  {
   "cell_type": "code",
   "execution_count": 9,
   "metadata": {},
   "outputs": [
    {
     "name": "stdout",
     "output_type": "stream",
     "text": [
      "Train on 712 samples, validate on 179 samples\n",
      "Epoch 1/50\n",
      "712/712 [==============================] - 1s 1ms/sample - loss: 0.6830 - accuracy: 0.6053 - val_loss: 0.6694 - val_accuracy: 0.6480\n",
      "Epoch 2/50\n",
      "712/712 [==============================] - 0s 229us/sample - loss: 0.6677 - accuracy: 0.6419 - val_loss: 0.6534 - val_accuracy: 0.6760\n",
      "Epoch 3/50\n",
      "712/712 [==============================] - 0s 228us/sample - loss: 0.6552 - accuracy: 0.6601 - val_loss: 0.6378 - val_accuracy: 0.7151\n",
      "Epoch 4/50\n",
      "712/712 [==============================] - 0s 239us/sample - loss: 0.6427 - accuracy: 0.6868 - val_loss: 0.6216 - val_accuracy: 0.7374\n",
      "Epoch 5/50\n",
      "712/712 [==============================] - 0s 229us/sample - loss: 0.6292 - accuracy: 0.7065 - val_loss: 0.6033 - val_accuracy: 0.7486\n",
      "Epoch 6/50\n",
      "712/712 [==============================] - 0s 225us/sample - loss: 0.6141 - accuracy: 0.7233 - val_loss: 0.5839 - val_accuracy: 0.7765\n",
      "Epoch 7/50\n",
      "712/712 [==============================] - 0s 230us/sample - loss: 0.5982 - accuracy: 0.7346 - val_loss: 0.5623 - val_accuracy: 0.7877\n",
      "Epoch 8/50\n",
      "712/712 [==============================] - 0s 226us/sample - loss: 0.5808 - accuracy: 0.7486 - val_loss: 0.5399 - val_accuracy: 0.7933\n",
      "Epoch 9/50\n",
      "712/712 [==============================] - 0s 232us/sample - loss: 0.5625 - accuracy: 0.7556 - val_loss: 0.5195 - val_accuracy: 0.7933\n",
      "Epoch 10/50\n",
      "712/712 [==============================] - 0s 236us/sample - loss: 0.5460 - accuracy: 0.7640 - val_loss: 0.4984 - val_accuracy: 0.8101\n",
      "Epoch 11/50\n",
      "712/712 [==============================] - 0s 242us/sample - loss: 0.5305 - accuracy: 0.7753 - val_loss: 0.4793 - val_accuracy: 0.8101\n",
      "Epoch 12/50\n",
      "712/712 [==============================] - 0s 237us/sample - loss: 0.5177 - accuracy: 0.7809 - val_loss: 0.4651 - val_accuracy: 0.8156\n",
      "Epoch 13/50\n",
      "712/712 [==============================] - 0s 228us/sample - loss: 0.5080 - accuracy: 0.7837 - val_loss: 0.4527 - val_accuracy: 0.8156\n",
      "Epoch 14/50\n",
      "712/712 [==============================] - 0s 228us/sample - loss: 0.5005 - accuracy: 0.7851 - val_loss: 0.4448 - val_accuracy: 0.8156\n",
      "Epoch 15/50\n",
      "712/712 [==============================] - 0s 235us/sample - loss: 0.4951 - accuracy: 0.7879 - val_loss: 0.4376 - val_accuracy: 0.8156\n",
      "Epoch 16/50\n",
      "712/712 [==============================] - 0s 230us/sample - loss: 0.4911 - accuracy: 0.7907 - val_loss: 0.4316 - val_accuracy: 0.8212\n",
      "Epoch 17/50\n",
      "712/712 [==============================] - 0s 239us/sample - loss: 0.4876 - accuracy: 0.7893 - val_loss: 0.4294 - val_accuracy: 0.8156\n",
      "Epoch 18/50\n",
      "712/712 [==============================] - 0s 240us/sample - loss: 0.4846 - accuracy: 0.7907 - val_loss: 0.4255 - val_accuracy: 0.8212\n",
      "Epoch 19/50\n",
      "712/712 [==============================] - 0s 233us/sample - loss: 0.4822 - accuracy: 0.7893 - val_loss: 0.4219 - val_accuracy: 0.8212\n",
      "Epoch 20/50\n",
      "712/712 [==============================] - 0s 230us/sample - loss: 0.4800 - accuracy: 0.7907 - val_loss: 0.4196 - val_accuracy: 0.8156\n",
      "Epoch 21/50\n",
      "712/712 [==============================] - 0s 229us/sample - loss: 0.4779 - accuracy: 0.7907 - val_loss: 0.4181 - val_accuracy: 0.8156\n",
      "Epoch 22/50\n",
      "712/712 [==============================] - 0s 225us/sample - loss: 0.4758 - accuracy: 0.7879 - val_loss: 0.4164 - val_accuracy: 0.8156\n",
      "Epoch 23/50\n",
      "712/712 [==============================] - 0s 232us/sample - loss: 0.4745 - accuracy: 0.7907 - val_loss: 0.4181 - val_accuracy: 0.8101\n",
      "Epoch 24/50\n",
      "712/712 [==============================] - 0s 242us/sample - loss: 0.4728 - accuracy: 0.7893 - val_loss: 0.4151 - val_accuracy: 0.8101\n",
      "Epoch 25/50\n",
      "712/712 [==============================] - 0s 239us/sample - loss: 0.4716 - accuracy: 0.7907 - val_loss: 0.4139 - val_accuracy: 0.8156\n",
      "Epoch 26/50\n",
      "712/712 [==============================] - 0s 233us/sample - loss: 0.4701 - accuracy: 0.7907 - val_loss: 0.4127 - val_accuracy: 0.8101\n",
      "Epoch 27/50\n",
      "712/712 [==============================] - 0s 229us/sample - loss: 0.4692 - accuracy: 0.7921 - val_loss: 0.4131 - val_accuracy: 0.8156\n",
      "Epoch 28/50\n",
      "712/712 [==============================] - 0s 237us/sample - loss: 0.4679 - accuracy: 0.7865 - val_loss: 0.4121 - val_accuracy: 0.8156\n",
      "Epoch 29/50\n",
      "712/712 [==============================] - 0s 239us/sample - loss: 0.4671 - accuracy: 0.7921 - val_loss: 0.4100 - val_accuracy: 0.8101\n",
      "Epoch 30/50\n",
      "712/712 [==============================] - 0s 236us/sample - loss: 0.4662 - accuracy: 0.7879 - val_loss: 0.4087 - val_accuracy: 0.8101\n",
      "Epoch 31/50\n",
      "712/712 [==============================] - 0s 229us/sample - loss: 0.4652 - accuracy: 0.7935 - val_loss: 0.4093 - val_accuracy: 0.8156\n",
      "Epoch 32/50\n",
      "712/712 [==============================] - 0s 230us/sample - loss: 0.4645 - accuracy: 0.7893 - val_loss: 0.4091 - val_accuracy: 0.8156\n",
      "Epoch 33/50\n",
      "712/712 [==============================] - 0s 239us/sample - loss: 0.4638 - accuracy: 0.7879 - val_loss: 0.4091 - val_accuracy: 0.8156\n",
      "Epoch 34/50\n",
      "712/712 [==============================] - 0s 240us/sample - loss: 0.4630 - accuracy: 0.7949 - val_loss: 0.4087 - val_accuracy: 0.8156\n",
      "Epoch 35/50\n",
      "712/712 [==============================] - 0s 235us/sample - loss: 0.4628 - accuracy: 0.7879 - val_loss: 0.4065 - val_accuracy: 0.8101\n",
      "Epoch 36/50\n",
      "712/712 [==============================] - 0s 232us/sample - loss: 0.4608 - accuracy: 0.7949 - val_loss: 0.4145 - val_accuracy: 0.8101\n",
      "Epoch 37/50\n",
      "712/712 [==============================] - 0s 239us/sample - loss: 0.4621 - accuracy: 0.7907 - val_loss: 0.4069 - val_accuracy: 0.8101\n",
      "Epoch 38/50\n",
      "712/712 [==============================] - 0s 236us/sample - loss: 0.4612 - accuracy: 0.7921 - val_loss: 0.4079 - val_accuracy: 0.8045\n",
      "Epoch 39/50\n",
      "712/712 [==============================] - 0s 230us/sample - loss: 0.4612 - accuracy: 0.7879 - val_loss: 0.4087 - val_accuracy: 0.8156\n",
      "Epoch 40/50\n",
      "712/712 [==============================] - 0s 232us/sample - loss: 0.4601 - accuracy: 0.7907 - val_loss: 0.4077 - val_accuracy: 0.8156\n",
      "Epoch 41/50\n",
      "712/712 [==============================] - 0s 237us/sample - loss: 0.4599 - accuracy: 0.7907 - val_loss: 0.4061 - val_accuracy: 0.8156\n",
      "Epoch 42/50\n",
      "712/712 [==============================] - 0s 240us/sample - loss: 0.4593 - accuracy: 0.7893 - val_loss: 0.4050 - val_accuracy: 0.8101\n",
      "Epoch 43/50\n",
      "712/712 [==============================] - 0s 229us/sample - loss: 0.4593 - accuracy: 0.7879 - val_loss: 0.4057 - val_accuracy: 0.8156\n",
      "Epoch 44/50\n",
      "712/712 [==============================] - 0s 257us/sample - loss: 0.4587 - accuracy: 0.7921 - val_loss: 0.4045 - val_accuracy: 0.8101\n",
      "Epoch 45/50\n",
      "712/712 [==============================] - 0s 256us/sample - loss: 0.4584 - accuracy: 0.7865 - val_loss: 0.4044 - val_accuracy: 0.8101\n",
      "Epoch 46/50\n",
      "712/712 [==============================] - 0s 260us/sample - loss: 0.4584 - accuracy: 0.7921 - val_loss: 0.4051 - val_accuracy: 0.8101\n",
      "Epoch 47/50\n",
      "712/712 [==============================] - 0s 240us/sample - loss: 0.4582 - accuracy: 0.7893 - val_loss: 0.4059 - val_accuracy: 0.8156\n",
      "Epoch 48/50\n",
      "712/712 [==============================] - 0s 274us/sample - loss: 0.4577 - accuracy: 0.7935 - val_loss: 0.4041 - val_accuracy: 0.8101\n",
      "Epoch 49/50\n",
      "712/712 [==============================] - 0s 246us/sample - loss: 0.4576 - accuracy: 0.7949 - val_loss: 0.4039 - val_accuracy: 0.8101\n",
      "Epoch 50/50\n",
      "712/712 [==============================] - 0s 230us/sample - loss: 0.4565 - accuracy: 0.7865 - val_loss: 0.4091 - val_accuracy: 0.8101\n"
     ]
    }
   ],
   "source": [
    "history = model.fit(data,target, epochs=50,batch_size=10,validation_split=0.2)"
   ]
  },
  {
   "cell_type": "code",
   "execution_count": 10,
   "metadata": {},
   "outputs": [
    {
     "ename": "NameError",
     "evalue": "name 'pred' is not defined",
     "output_type": "error",
     "traceback": [
      "\u001b[1;31m---------------------------------------------------------------------------\u001b[0m",
      "\u001b[1;31mNameError\u001b[0m                                 Traceback (most recent call last)",
      "\u001b[1;32m<ipython-input-10-ddb6b70c1c00>\u001b[0m in \u001b[0;36m<module>\u001b[1;34m\u001b[0m\n\u001b[0;32m      3\u001b[0m \u001b[1;33m\u001b[0m\u001b[0m\n\u001b[0;32m      4\u001b[0m \u001b[0mprediction\u001b[0m \u001b[1;33m=\u001b[0m \u001b[0mmodel\u001b[0m\u001b[1;33m.\u001b[0m\u001b[0mpredict\u001b[0m\u001b[1;33m(\u001b[0m\u001b[0mtopred\u001b[0m\u001b[1;33m)\u001b[0m\u001b[1;33m\u001b[0m\u001b[1;33m\u001b[0m\u001b[0m\n\u001b[1;32m----> 5\u001b[1;33m \u001b[0mprint\u001b[0m\u001b[1;33m(\u001b[0m\u001b[1;34m\"DiCaprio chance de survivre:\"\u001b[0m\u001b[1;33m,\u001b[0m \u001b[0mpred\u001b[0m\u001b[1;33m[\u001b[0m\u001b[1;36m0\u001b[0m\u001b[1;33m]\u001b[0m\u001b[1;33m[\u001b[0m\u001b[1;36m1\u001b[0m\u001b[1;33m]\u001b[0m\u001b[1;33m)\u001b[0m\u001b[1;33m\u001b[0m\u001b[1;33m\u001b[0m\u001b[0m\n\u001b[0m",
      "\u001b[1;31mNameError\u001b[0m: name 'pred' is not defined"
     ]
    }
   ],
   "source": [
    "topred = scaler.transform([[3,0,22,40]])\n",
    "\n",
    "\n",
    "prediction = model.predict(topred)\n",
    "print(\"DiCaprio chance de survivre:\", prediction[0][1])\n"
   ]
  },
  {
   "cell_type": "markdown",
   "metadata": {},
   "source": [
    "## COURBE D'APPRENTISSAGE"
   ]
  },
  {
   "cell_type": "markdown",
   "metadata": {},
   "source": [
    "### LES VALEURS STOCKEES"
   ]
  },
  {
   "cell_type": "code",
   "execution_count": null,
   "metadata": {},
   "outputs": [],
   "source": [
    "print(history.history.keys())\n"
   ]
  },
  {
   "cell_type": "markdown",
   "metadata": {},
   "source": [
    "### CONSTRUCTION DU GRAPHIQUE"
   ]
  },
  {
   "cell_type": "code",
   "execution_count": null,
   "metadata": {},
   "outputs": [],
   "source": [
    "import matplotlib.pyplot as plt\n",
    "\n",
    "\n",
    "# summarize history for accuracy\n",
    "plt.plot(history.history['accuracy'])\n",
    "plt.plot(history.history['val_accuracy'])\n",
    "plt.title('model accuracy')\n",
    "plt.ylabel('accuracy')\n",
    "plt.xlabel('epoch')\n",
    "plt.legend(['train', 'test'], loc='upper left')\n",
    "plt.show()\n",
    "# summarize history for loss\n",
    "plt.plot(history.history['loss'])\n",
    "plt.plot(history.history['val_loss'])\n",
    "plt.title('model loss')\n",
    "plt.ylabel('loss')\n",
    "plt.xlabel('epoch')\n",
    "plt.legend(['train', 'test'], loc='upper left')\n",
    "plt.show()"
   ]
  },
  {
   "cell_type": "code",
   "execution_count": null,
   "metadata": {},
   "outputs": [],
   "source": []
  }
 ],
 "metadata": {
  "kernelspec": {
   "display_name": "Python 3",
   "language": "python",
   "name": "python3"
  },
  "language_info": {
   "codemirror_mode": {
    "name": "ipython",
    "version": 3
   },
   "file_extension": ".py",
   "mimetype": "text/x-python",
   "name": "python",
   "nbconvert_exporter": "python",
   "pygments_lexer": "ipython3",
   "version": "3.7.7"
  }
 },
 "nbformat": 4,
 "nbformat_minor": 2
}
