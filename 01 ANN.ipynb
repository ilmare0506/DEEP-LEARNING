{
 "cells": [
  {
   "cell_type": "markdown",
   "metadata": {
    "colab_type": "text",
    "id": "DnQFYmfZQdgU"
   },
   "source": [
    "# Importer les librairies\n",
    "\n",
    "\n"
   ]
  },
  {
   "cell_type": "code",
   "execution_count": 1,
   "metadata": {
    "colab": {},
    "colab_type": "code",
    "id": "4zpCvE9cDnCD"
   },
   "outputs": [],
   "source": [
    "import numpy as np\n",
    "import tensorflow as tf\n",
    "from tensorflow.keras.datasets import fashion_mnist"
   ]
  },
  {
   "cell_type": "markdown",
   "metadata": {
    "colab_type": "text",
    "id": "9pAYprM3Qrfy"
   },
   "source": [
    "# Importer le dataset"
   ]
  },
  {
   "cell_type": "code",
   "execution_count": 2,
   "metadata": {
    "colab": {},
    "colab_type": "code",
    "id": "14qaYD2QEOsp"
   },
   "outputs": [],
   "source": [
    "(X_train, y_train), (X_test, y_test) = fashion_mnist.load_data()"
   ]
  },
  {
   "cell_type": "markdown",
   "metadata": {},
   "source": [
    "<img src='https://miro.medium.com/max/1000/1*k4SvUd6Lqnf2MgkB9TvSaw.png'>\n"
   ]
  },
  {
   "cell_type": "markdown",
   "metadata": {
    "colab_type": "text",
    "id": "rhzTwSaJUxhS"
   },
   "source": [
    "# Preprocessing"
   ]
  },
  {
   "cell_type": "markdown",
   "metadata": {
    "colab_type": "text",
    "id": "qcCVdzQGYFQi"
   },
   "source": [
    "## Normalisation"
   ]
  },
  {
   "cell_type": "markdown",
   "metadata": {
    "colab_type": "text",
    "id": "F5WHbRp5Xgf6"
   },
   "source": [
    "On va préparer un peu les données.\n",
    "Tout d'abord, nos données contiennent des tableaux contennant des valeurs allant de 0 à 255 ( niveau de gris ). Il est assez facile de normaliser les données en divisant chaque valeur par 255 afin de n'obtenir que des valeurs allant de 0 à 1\n"
   ]
  },
  {
   "cell_type": "code",
   "execution_count": 3,
   "metadata": {
    "colab": {},
    "colab_type": "code",
    "id": "YMRMbGUxExQ_"
   },
   "outputs": [],
   "source": [
    "X_train = X_train / 255.0"
   ]
  },
  {
   "cell_type": "code",
   "execution_count": 4,
   "metadata": {
    "colab": {},
    "colab_type": "code",
    "id": "q1SHftZvEx7Z"
   },
   "outputs": [],
   "source": [
    "X_test = X_test / 255.0"
   ]
  },
  {
   "cell_type": "markdown",
   "metadata": {
    "colab_type": "text",
    "id": "d31_vXWaYUiy"
   },
   "source": [
    "## Reshape"
   ]
  },
  {
   "cell_type": "markdown",
   "metadata": {
    "colab_type": "text",
    "id": "X85XggI7YaUR"
   },
   "source": [
    "Le seconde consiste à transformer nos images qui sont des tableaux a deux dimensions en un vecteur unique. Nous allons donc passer d\"un tableau de 28 lignes, 28 colonnes à un vecteur de 784 valeurs ( 28*28)."
   ]
  },
  {
   "cell_type": "code",
   "execution_count": 5,
   "metadata": {
    "colab": {},
    "colab_type": "code",
    "id": "3NkbAJxFE26x"
   },
   "outputs": [],
   "source": [
    "X_train = X_train.reshape(-1, 28*28)\n",
    "X_test = X_test.reshape(-1, 28*28)"
   ]
  },
  {
   "cell_type": "markdown",
   "metadata": {
    "colab_type": "text",
    "id": "KiB19Y0jFC64"
   },
   "source": [
    "# Construction de notre ANN"
   ]
  },
  {
   "cell_type": "markdown",
   "metadata": {
    "colab_type": "text",
    "id": "AwOlDYn_a3YT"
   },
   "source": [
    "Nous partons ici sur un modèle simple qui est un modèle séquentiel.\n",
    "https://keras.io/layers/core/"
   ]
  },
  {
   "cell_type": "code",
   "execution_count": 6,
   "metadata": {
    "colab": {},
    "colab_type": "code",
    "id": "BqwVGdquFSf3"
   },
   "outputs": [],
   "source": [
    "model = tf.keras.models.Sequential()"
   ]
  },
  {
   "cell_type": "markdown",
   "metadata": {
    "colab_type": "text",
    "id": "WHoFEbtobf1B"
   },
   "source": [
    "On créé notre première couche cachée\n",
    "Qui est une couche dense constituée de 128 Neuronnes ( units ) avec une activation Relu (Unité de Rectification Linéaire). et en fait comme il s'agit de la première couche que nous créons nous lui indiquons le forme de nos data :-)\n",
    "https://www.tensorflow.org/api_docs/python/tf/keras/layers/Dense"
   ]
  },
  {
   "cell_type": "code",
   "execution_count": 7,
   "metadata": {
    "colab": {},
    "colab_type": "code",
    "id": "v79_sncKFZ3n"
   },
   "outputs": [],
   "source": [
    "model.add(tf.keras.layers.Dense(units=128, activation='relu', input_shape=(784, )))"
   ]
  },
  {
   "cell_type": "markdown",
   "metadata": {
    "colab_type": "text",
    "id": "nga7GFQPd6Y0"
   },
   "source": [
    "On va rajouter une couche de dropout. Ca limite l'overfitting du modèle \n",
    "La doc pour comprendre :\n",
    "https://www.tensorflow.org/api_docs/python/tf/keras/layers/Dropout\n"
   ]
  },
  {
   "cell_type": "code",
   "execution_count": 8,
   "metadata": {
    "colab": {},
    "colab_type": "code",
    "id": "vjfDC6QAFk8P"
   },
   "outputs": [],
   "source": [
    "model.add(tf.keras.layers.Dropout(0.2))"
   ]
  },
  {
   "cell_type": "code",
   "execution_count": 9,
   "metadata": {
    "colab": {},
    "colab_type": "code",
    "id": "k2IZBxxNf0DS"
   },
   "outputs": [],
   "source": [
    "model.add(tf.keras.layers.Dense(units=128, activation='relu'))"
   ]
  },
  {
   "cell_type": "code",
   "execution_count": 10,
   "metadata": {
    "colab": {},
    "colab_type": "code",
    "id": "_n5MMNN1f9nq"
   },
   "outputs": [],
   "source": [
    "model.add(tf.keras.layers.Dropout(0.2))"
   ]
  },
  {
   "cell_type": "markdown",
   "metadata": {
    "colab_type": "text",
    "id": "6sziEFkBfJas"
   },
   "source": [
    "\n",
    "Ici on va avoir notre couche de sortie avec 10 neurones correspondant à nos 10 classes avec une activation softmax.\n",
    "Un peu de théorie sur le softmax )\n",
    "https://fr.wikipedia.org/wiki/Fonction_softmax"
   ]
  },
  {
   "cell_type": "code",
   "execution_count": 11,
   "metadata": {
    "colab": {},
    "colab_type": "code",
    "id": "wV-Ob-Z6FqMv"
   },
   "outputs": [],
   "source": [
    "model.add(tf.keras.layers.Dense(units=10, activation='softmax'))"
   ]
  },
  {
   "cell_type": "code",
   "execution_count": 12,
   "metadata": {
    "colab": {
     "base_uri": "https://localhost:8080/",
     "height": 323
    },
    "colab_type": "code",
    "id": "cqNys9CAFwvX",
    "outputId": "06d09bfe-3ae0-4c08-d5ad-89acf300719d"
   },
   "outputs": [
    {
     "name": "stdout",
     "output_type": "stream",
     "text": [
      "Model: \"sequential\"\n",
      "_________________________________________________________________\n",
      "Layer (type)                 Output Shape              Param #   \n",
      "=================================================================\n",
      "dense (Dense)                (None, 128)               100480    \n",
      "_________________________________________________________________\n",
      "dropout (Dropout)            (None, 128)               0         \n",
      "_________________________________________________________________\n",
      "dense_1 (Dense)              (None, 128)               16512     \n",
      "_________________________________________________________________\n",
      "dropout_1 (Dropout)          (None, 128)               0         \n",
      "_________________________________________________________________\n",
      "dense_2 (Dense)              (None, 10)                1290      \n",
      "=================================================================\n",
      "Total params: 118,282\n",
      "Trainable params: 118,282\n",
      "Non-trainable params: 0\n",
      "_________________________________________________________________\n"
     ]
    }
   ],
   "source": [
    "model.summary()"
   ]
  },
  {
   "cell_type": "markdown",
   "metadata": {
    "colab_type": "text",
    "id": "XQg_eE8WfikE"
   },
   "source": [
    "# Compilation et entrainement"
   ]
  },
  {
   "cell_type": "code",
   "execution_count": 13,
   "metadata": {
    "colab": {},
    "colab_type": "code",
    "id": "wEelo-EoGDJp"
   },
   "outputs": [],
   "source": [
    "model.compile(optimizer='adam', loss='sparse_categorical_crossentropy', metrics=['sparse_categorical_accuracy'])"
   ]
  },
  {
   "cell_type": "code",
   "execution_count": 17,
   "metadata": {
    "colab": {
     "base_uri": "https://localhost:8080/",
     "height": 374
    },
    "colab_type": "code",
    "id": "qFKT3UzQF40A",
    "outputId": "07be0dc9-43be-412d-d657-1a750c3e3ba7"
   },
   "outputs": [
    {
     "name": "stdout",
     "output_type": "stream",
     "text": [
      "Train on 60000 samples\n",
      "Epoch 1/25\n",
      "60000/60000 [==============================] - 3s 50us/sample - loss: 0.2463 - sparse_categorical_accuracy: 0.9069\n",
      "Epoch 2/25\n",
      "60000/60000 [==============================] - 3s 49us/sample - loss: 0.2429 - sparse_categorical_accuracy: 0.9079\n",
      "Epoch 3/25\n",
      "60000/60000 [==============================] - 3s 49us/sample - loss: 0.2387 - sparse_categorical_accuracy: 0.9103\n",
      "Epoch 4/25\n",
      "60000/60000 [==============================] - 3s 49us/sample - loss: 0.2381 - sparse_categorical_accuracy: 0.9096\n",
      "Epoch 5/25\n",
      "60000/60000 [==============================] - 3s 50us/sample - loss: 0.2382 - sparse_categorical_accuracy: 0.9100\n",
      "Epoch 6/25\n",
      "60000/60000 [==============================] - 3s 49us/sample - loss: 0.2322 - sparse_categorical_accuracy: 0.9122\n",
      "Epoch 7/25\n",
      "60000/60000 [==============================] - 3s 49us/sample - loss: 0.2307 - sparse_categorical_accuracy: 0.9136\n",
      "Epoch 8/25\n",
      "60000/60000 [==============================] - 3s 50us/sample - loss: 0.2348 - sparse_categorical_accuracy: 0.9130\n",
      "Epoch 9/25\n",
      "60000/60000 [==============================] - 3s 50us/sample - loss: 0.2293 - sparse_categorical_accuracy: 0.9125\n",
      "Epoch 10/25\n",
      "60000/60000 [==============================] - 3s 50us/sample - loss: 0.2279 - sparse_categorical_accuracy: 0.9142\n",
      "Epoch 11/25\n",
      "60000/60000 [==============================] - 3s 51us/sample - loss: 0.2261 - sparse_categorical_accuracy: 0.9149\n",
      "Epoch 12/25\n",
      "60000/60000 [==============================] - 3s 50us/sample - loss: 0.2239 - sparse_categorical_accuracy: 0.9153\n",
      "Epoch 13/25\n",
      "60000/60000 [==============================] - 3s 49us/sample - loss: 0.2213 - sparse_categorical_accuracy: 0.9148\n",
      "Epoch 14/25\n",
      "60000/60000 [==============================] - 3s 49us/sample - loss: 0.2220 - sparse_categorical_accuracy: 0.9160\n",
      "Epoch 15/25\n",
      "60000/60000 [==============================] - 3s 49us/sample - loss: 0.2196 - sparse_categorical_accuracy: 0.9158\n",
      "Epoch 16/25\n",
      "60000/60000 [==============================] - 3s 49us/sample - loss: 0.2178 - sparse_categorical_accuracy: 0.9171\n",
      "Epoch 17/25\n",
      "60000/60000 [==============================] - 3s 49us/sample - loss: 0.2159 - sparse_categorical_accuracy: 0.9190\n",
      "Epoch 18/25\n",
      "60000/60000 [==============================] - 3s 49us/sample - loss: 0.2152 - sparse_categorical_accuracy: 0.9186\n",
      "Epoch 19/25\n",
      "60000/60000 [==============================] - 3s 49us/sample - loss: 0.2135 - sparse_categorical_accuracy: 0.9188\n",
      "Epoch 20/25\n",
      "60000/60000 [==============================] - 3s 49us/sample - loss: 0.2066 - sparse_categorical_accuracy: 0.9215\n",
      "Epoch 21/25\n",
      "60000/60000 [==============================] - 3s 49us/sample - loss: 0.2117 - sparse_categorical_accuracy: 0.9207\n",
      "Epoch 22/25\n",
      "60000/60000 [==============================] - 3s 48us/sample - loss: 0.2118 - sparse_categorical_accuracy: 0.9204\n",
      "Epoch 23/25\n",
      "60000/60000 [==============================] - 3s 48us/sample - loss: 0.2097 - sparse_categorical_accuracy: 0.9207\n",
      "Epoch 24/25\n",
      "60000/60000 [==============================] - 3s 48us/sample - loss: 0.2084 - sparse_categorical_accuracy: 0.9208\n",
      "Epoch 25/25\n",
      "60000/60000 [==============================] - 3s 48us/sample - loss: 0.2069 - sparse_categorical_accuracy: 0.9216\n"
     ]
    },
    {
     "data": {
      "text/plain": [
       "<tensorflow.python.keras.callbacks.History at 0x19e5fde4808>"
      ]
     },
     "execution_count": 17,
     "metadata": {},
     "output_type": "execute_result"
    }
   ],
   "source": [
    "model.fit(X_train, y_train, epochs=25)"
   ]
  },
  {
   "cell_type": "code",
   "execution_count": 18,
   "metadata": {
    "colab": {
     "base_uri": "https://localhost:8080/",
     "height": 34
    },
    "colab_type": "code",
    "id": "ozw5X_KiGPcI",
    "outputId": "f61fcb3a-2bdc-48b6-f41d-a909a72cfc6d"
   },
   "outputs": [
    {
     "name": "stdout",
     "output_type": "stream",
     "text": [
      "10000/10000 [==============================] - 0s 44us/sample - loss: 0.3374 - sparse_categorical_accuracy: 0.8940\n"
     ]
    }
   ],
   "source": [
    "test_loss, test_accuracy = model.evaluate(X_test, y_test)"
   ]
  },
  {
   "cell_type": "code",
   "execution_count": 20,
   "metadata": {},
   "outputs": [],
   "source": [
    "filepath = 'fashion_mnist.h5'\n",
    "\n",
    "tf.keras.models.save_model(\n",
    "    model, filepath, overwrite=True, include_optimizer=True, save_format=None,\n",
    "    signatures=None, options=None\n",
    ")"
   ]
  },
  {
   "cell_type": "code",
   "execution_count": null,
   "metadata": {},
   "outputs": [],
   "source": []
  }
 ],
 "metadata": {
  "colab": {
   "name": "tf2_ann.ipynb",
   "provenance": [],
   "toc_visible": true
  },
  "kernelspec": {
   "display_name": "Python 3",
   "language": "python",
   "name": "python3"
  },
  "language_info": {
   "codemirror_mode": {
    "name": "ipython",
    "version": 3
   },
   "file_extension": ".py",
   "mimetype": "text/x-python",
   "name": "python",
   "nbconvert_exporter": "python",
   "pygments_lexer": "ipython3",
   "version": "3.7.7"
  }
 },
 "nbformat": 4,
 "nbformat_minor": 1
}
