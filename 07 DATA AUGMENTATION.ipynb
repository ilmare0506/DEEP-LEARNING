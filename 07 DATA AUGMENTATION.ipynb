{
 "cells": [
  {
   "cell_type": "markdown",
   "metadata": {},
   "source": [
    "# DATA AUGMENTATION"
   ]
  },
  {
   "cell_type": "markdown",
   "metadata": {},
   "source": [
    "<img src='images/data-augmentation.jpg'>"
   ]
  },
  {
   "cell_type": "markdown",
   "metadata": {},
   "source": [
    "## IMPORTER LES LIBRAIRIES"
   ]
  },
  {
   "cell_type": "code",
   "execution_count": 1,
   "metadata": {},
   "outputs": [],
   "source": [
    "import numpy as np\n",
    "import matplotlib.pyplot as plt\n",
    "import pickle\n",
    "import tensorflow as tf\n",
    "from sklearn.model_selection import train_test_split"
   ]
  },
  {
   "cell_type": "markdown",
   "metadata": {},
   "source": [
    "## DEFINIR LES PARAMETRES"
   ]
  },
  {
   "cell_type": "code",
   "execution_count": 2,
   "metadata": {},
   "outputs": [],
   "source": [
    "CATEGORIES = [\"Chien\", \"Chat\"]\n"
   ]
  },
  {
   "cell_type": "markdown",
   "metadata": {},
   "source": [
    "### CHARGEMENT DES DONNEES"
   ]
  },
  {
   "cell_type": "code",
   "execution_count": 3,
   "metadata": {},
   "outputs": [],
   "source": [
    "#Import des images\n",
    "pickle_in = open(\"datasets/features.pickle\",\"rb\")\n",
    "features = pickle.load(pickle_in)\n",
    "\n",
    "\n",
    "#Import des labels\n",
    "pickle_in = open(\"datasets/labels.pickle\",\"rb\")\n",
    "labels = pickle.load(pickle_in)\n",
    "labels= np.array(labels)\n"
   ]
  },
  {
   "cell_type": "markdown",
   "metadata": {},
   "source": [
    "### MISE EN PLACE DES JEUX DE DONNEES"
   ]
  },
  {
   "cell_type": "code",
   "execution_count": 4,
   "metadata": {},
   "outputs": [],
   "source": [
    "#Création du jeu de test et d'entrainement\n",
    "X_train, X_test, y_train, y_test = train_test_split(features, labels, test_size=0.3, random_state=42)"
   ]
  },
  {
   "cell_type": "code",
   "execution_count": 5,
   "metadata": {},
   "outputs": [],
   "source": [
    "# Création du jeu de validation\n",
    "X_train, X_val, y_train, y_val = train_test_split(X_train, y_train, test_size=0.10, random_state=1)"
   ]
  },
  {
   "cell_type": "code",
   "execution_count": 6,
   "metadata": {},
   "outputs": [],
   "source": [
    "X_train = X_train.astype(\"float32\") / 127.5 -1\n",
    "X_test = X_test.astype(\"float32\") / 127.5 -1\n",
    "X_val = X_val.astype(\"float32\") / 127.5 -1"
   ]
  },
  {
   "cell_type": "markdown",
   "metadata": {},
   "source": [
    "### AUGMENTATION"
   ]
  },
  {
   "cell_type": "markdown",
   "metadata": {},
   "source": [
    "LA DOC kERAS SUR LE SUJET : https://keras.io/api/preprocessing/image/"
   ]
  },
  {
   "cell_type": "code",
   "execution_count": 7,
   "metadata": {},
   "outputs": [],
   "source": [
    "datagen = tf.keras.preprocessing.image.ImageDataGenerator(\n",
    "    featurewise_center=True,\n",
    "    featurewise_std_normalization=True,\n",
    "    rotation_range=20,\n",
    "    width_shift_range=0.2,\n",
    "    height_shift_range=0.2,\n",
    "    horizontal_flip=True)"
   ]
  },
  {
   "cell_type": "code",
   "execution_count": 8,
   "metadata": {},
   "outputs": [],
   "source": [
    "datagen.fit(X_val)"
   ]
  },
  {
   "cell_type": "code",
   "execution_count": 9,
   "metadata": {},
   "outputs": [
    {
     "data": {
      "text/plain": [
       "array([[[[-0.38823527, -0.32549018, -0.3333333 ],\n",
       "         [-0.36470586, -0.30196077, -0.3098039 ],\n",
       "         [-0.36470586, -0.30196077, -0.3098039 ],\n",
       "         ...,\n",
       "         [ 0.26274514,  0.24705887,  0.23921573],\n",
       "         [ 0.28627455,  0.254902  ,  0.24705887],\n",
       "         [ 0.27058828,  0.27058828,  0.22352946]],\n",
       "\n",
       "        [[-0.654902  , -0.60784316, -0.6156863 ],\n",
       "         [-0.7019608 , -0.654902  , -0.6627451 ],\n",
       "         [-0.6313726 , -0.58431375, -0.5921569 ],\n",
       "         ...,\n",
       "         [ 0.2941177 ,  0.27843142,  0.27843142],\n",
       "         [ 0.27058828,  0.23921573,  0.2313726 ],\n",
       "         [ 0.30980396,  0.30196083,  0.27843142]],\n",
       "\n",
       "        [[-0.56078434, -0.5137255 , -0.52156866],\n",
       "         [-0.84313726, -0.79607844, -0.8039216 ],\n",
       "         [-0.90588236, -0.85882354, -0.85882354],\n",
       "         ...,\n",
       "         [ 0.28627455,  0.27058828,  0.26274514],\n",
       "         [ 0.27843142,  0.24705887,  0.23921573],\n",
       "         [ 0.36470592,  0.3411765 ,  0.35686278]],\n",
       "\n",
       "        ...,\n",
       "\n",
       "        [[-0.4352941 , -0.38039213, -0.6392157 ],\n",
       "         [-0.32549018, -0.29411763, -0.5764706 ],\n",
       "         [-0.38823527, -0.38823527, -0.6627451 ],\n",
       "         ...,\n",
       "         [ 0.09803927,  0.23921573,  0.2313726 ],\n",
       "         [-0.03529412,  0.10588241,  0.11372554],\n",
       "         [-0.10588235,  0.082353  ,  0.06666672]],\n",
       "\n",
       "        [[-0.23921567, -0.17647058, -0.41960782],\n",
       "         [-0.29411763, -0.25490195, -0.5294118 ],\n",
       "         [-0.29411763, -0.27843136, -0.56078434],\n",
       "         ...,\n",
       "         [-0.10588235,  0.05098045,  0.01176476],\n",
       "         [-0.12156862,  0.02745104,  0.01176476],\n",
       "         [ 0.00392163,  0.12156868,  0.11372554]],\n",
       "\n",
       "        [[-0.11372548, -0.05098039, -0.27843136],\n",
       "         [-0.19215685, -0.15294117, -0.40392154],\n",
       "         [-0.0745098 , -0.05098039, -0.32549018],\n",
       "         ...,\n",
       "         [-0.05882353,  0.06666672, -0.00392157],\n",
       "         [ 0.12941182,  0.27843142,  0.20000005],\n",
       "         [ 0.1686275 ,  0.2941177 ,  0.254902  ]]],\n",
       "\n",
       "\n",
       "       [[[-0.52156866, -0.4980392 , -0.46666664],\n",
       "         [-0.5764706 , -0.5529412 , -0.52156866],\n",
       "         [-0.40392154, -0.38039213, -0.3490196 ],\n",
       "         ...,\n",
       "         [-0.77254903, -0.7411765 , -0.7882353 ],\n",
       "         [-0.36470586, -0.31764704, -0.35686272],\n",
       "         [-0.20784312, -0.15294117, -0.19999999]],\n",
       "\n",
       "        [[-0.54509807, -0.52156866, -0.49019605],\n",
       "         [-0.5372549 , -0.5137255 , -0.4823529 ],\n",
       "         [-0.38823527, -0.372549  , -0.34117645],\n",
       "         ...,\n",
       "         [-0.7019608 , -0.6627451 , -0.70980394],\n",
       "         [-0.23137254, -0.17647058, -0.21568626],\n",
       "         [-0.23921567, -0.18431371, -0.2235294 ]],\n",
       "\n",
       "        [[-0.654902  , -0.6313726 , -0.6       ],\n",
       "         [-0.45098037, -0.42745095, -0.3960784 ],\n",
       "         [-0.6313726 , -0.60784316, -0.5764706 ],\n",
       "         ...,\n",
       "         [-0.40392154, -0.36470586, -0.41176468],\n",
       "         [-0.25490195, -0.20784312, -0.24705881],\n",
       "         [-0.12941176, -0.0745098 , -0.11372548]],\n",
       "\n",
       "        ...,\n",
       "\n",
       "        [[ 0.52156866,  0.5058824 ,  0.4666667 ],\n",
       "         [ 0.5529412 ,  0.5372549 ,  0.49803925],\n",
       "         [ 0.6       ,  0.58431375,  0.54509807],\n",
       "         ...,\n",
       "         [ 0.5921569 ,  0.58431375,  0.5058824 ],\n",
       "         [ 0.5058824 ,  0.5137255 ,  0.4431373 ],\n",
       "         [ 0.36470592,  0.37254906,  0.30196083]],\n",
       "\n",
       "        [[ 0.5058824 ,  0.47450984,  0.43529415],\n",
       "         [ 0.5372549 ,  0.5058824 ,  0.4666667 ],\n",
       "         [ 0.45098042,  0.41960788,  0.38823533],\n",
       "         ...,\n",
       "         [ 0.5058824 ,  0.49803925,  0.41960788],\n",
       "         [ 0.427451  ,  0.43529415,  0.35686278],\n",
       "         [ 0.36470592,  0.37254906,  0.2941177 ]],\n",
       "\n",
       "        [[ 0.35686278,  0.36470592,  0.33333337],\n",
       "         [ 0.32549024,  0.33333337,  0.30196083],\n",
       "         [ 0.32549024,  0.33333337,  0.30196083],\n",
       "         ...,\n",
       "         [ 0.41176474,  0.4039216 ,  0.37254906],\n",
       "         [ 0.35686278,  0.34901965,  0.3176471 ],\n",
       "         [ 0.45882356,  0.45098042,  0.41960788]]],\n",
       "\n",
       "\n",
       "       [[[ 0.28627455,  0.2941177 ,  0.27843142],\n",
       "         [-0.04313725, -0.03529412, -0.05098039],\n",
       "         [-0.17647058, -0.16862744, -0.18431371],\n",
       "         ...,\n",
       "         [ 0.10588241,  0.15294123,  0.20784318],\n",
       "         [ 0.11372554,  0.16078436,  0.21568632],\n",
       "         [ 0.13725495,  0.18431377,  0.23921573]],\n",
       "\n",
       "        [[ 0.0196079 ,  0.02745104,  0.01176476],\n",
       "         [-0.23137254, -0.2235294 , -0.23921567],\n",
       "         [ 0.09019613,  0.09803927,  0.082353  ],\n",
       "         ...,\n",
       "         [ 0.11372554,  0.16078436,  0.21568632],\n",
       "         [ 0.13725495,  0.18431377,  0.23921573],\n",
       "         [ 0.17647064,  0.22352946,  0.27843142]],\n",
       "\n",
       "        [[-0.23921567, -0.23137254, -0.24705881],\n",
       "         [-0.12156862, -0.10588235, -0.12941176],\n",
       "         [ 0.24705887,  0.254902  ,  0.23921573],\n",
       "         ...,\n",
       "         [ 0.12941182,  0.17647064,  0.2313726 ],\n",
       "         [ 0.16078436,  0.20784318,  0.26274514],\n",
       "         [ 0.19215691,  0.23921573,  0.2941177 ]],\n",
       "\n",
       "        ...,\n",
       "\n",
       "        [[ 0.19215691,  0.1686275 ,  0.18431377],\n",
       "         [ 0.13725495,  0.12156868,  0.12156868],\n",
       "         [ 0.18431377,  0.1686275 ,  0.15294123],\n",
       "         ...,\n",
       "         [-0.0745098 , -0.03529412, -0.04313725],\n",
       "         [-0.09019607, -0.05098039, -0.05882353],\n",
       "         [-0.09803921, -0.06666666, -0.0745098 ]],\n",
       "\n",
       "        [[ 0.12156868,  0.10588241,  0.11372554],\n",
       "         [ 0.13725495,  0.12941182,  0.12156868],\n",
       "         [ 0.17647064,  0.1686275 ,  0.14509809],\n",
       "         ...,\n",
       "         [-0.05098039, -0.01176471, -0.01176471],\n",
       "         [-0.08235294, -0.04313725, -0.04313725],\n",
       "         [-0.10588235, -0.0745098 , -0.0745098 ]],\n",
       "\n",
       "        [[ 0.06666672,  0.09019613,  0.07450986],\n",
       "         [ 0.06666672,  0.07450986,  0.04313731],\n",
       "         [ 0.19215691,  0.20784318,  0.15294123],\n",
       "         ...,\n",
       "         [-0.04313725, -0.01176471, -0.00392157],\n",
       "         [-0.05882353, -0.02745098, -0.01960784],\n",
       "         [-0.09019607, -0.05882353, -0.05098039]]],\n",
       "\n",
       "\n",
       "       ...,\n",
       "\n",
       "\n",
       "       [[[ 1.        ,  1.        ,  1.        ],\n",
       "         [ 1.        ,  1.        ,  1.        ],\n",
       "         [ 1.        ,  1.        ,  1.        ],\n",
       "         ...,\n",
       "         [ 1.        ,  1.        ,  1.        ],\n",
       "         [ 1.        ,  1.        ,  1.        ],\n",
       "         [ 1.        ,  1.        ,  1.        ]],\n",
       "\n",
       "        [[ 1.        ,  1.        ,  1.        ],\n",
       "         [ 1.        ,  1.        ,  1.        ],\n",
       "         [ 1.        ,  1.        ,  1.        ],\n",
       "         ...,\n",
       "         [ 1.        ,  1.        ,  1.        ],\n",
       "         [ 1.        ,  1.        ,  1.        ],\n",
       "         [ 1.        ,  1.        ,  1.        ]],\n",
       "\n",
       "        [[ 1.        ,  1.        ,  1.        ],\n",
       "         [ 1.        ,  1.        ,  1.        ],\n",
       "         [ 1.        ,  1.        ,  1.        ],\n",
       "         ...,\n",
       "         [ 1.        ,  1.        ,  1.        ],\n",
       "         [ 1.        ,  1.        ,  1.        ],\n",
       "         [ 1.        ,  1.        ,  1.        ]],\n",
       "\n",
       "        ...,\n",
       "\n",
       "        [[ 1.        ,  1.        ,  1.        ],\n",
       "         [ 1.        ,  1.        ,  1.        ],\n",
       "         [ 1.        ,  1.        ,  1.        ],\n",
       "         ...,\n",
       "         [ 1.        ,  1.        ,  1.        ],\n",
       "         [ 1.        ,  1.        ,  1.        ],\n",
       "         [ 1.        ,  1.        ,  1.        ]],\n",
       "\n",
       "        [[ 1.        ,  1.        ,  1.        ],\n",
       "         [ 1.        ,  1.        ,  1.        ],\n",
       "         [ 1.        ,  1.        ,  1.        ],\n",
       "         ...,\n",
       "         [ 1.        ,  1.        ,  1.        ],\n",
       "         [ 1.        ,  1.        ,  1.        ],\n",
       "         [ 1.        ,  1.        ,  1.        ]],\n",
       "\n",
       "        [[ 1.        ,  1.        ,  1.        ],\n",
       "         [ 1.        ,  1.        ,  1.        ],\n",
       "         [ 1.        ,  1.        ,  1.        ],\n",
       "         ...,\n",
       "         [ 1.        ,  1.        ,  1.        ],\n",
       "         [ 1.        ,  1.        ,  1.        ],\n",
       "         [ 1.        ,  1.        ,  1.        ]]],\n",
       "\n",
       "\n",
       "       [[[-0.78039217, -0.8039216 , -0.8352941 ],\n",
       "         [-0.7647059 , -0.7882353 , -0.81960785],\n",
       "         [-0.7647059 , -0.7882353 , -0.81960785],\n",
       "         ...,\n",
       "         [-0.84313726, -0.8666667 , -0.90588236],\n",
       "         [-0.8352941 , -0.85882354, -0.8980392 ],\n",
       "         [-0.85882354, -0.8980392 , -0.8901961 ]],\n",
       "\n",
       "        [[-0.77254903, -0.79607844, -0.827451  ],\n",
       "         [-0.75686276, -0.78039217, -0.8117647 ],\n",
       "         [-0.75686276, -0.78039217, -0.8117647 ],\n",
       "         ...,\n",
       "         [-0.81960785, -0.84313726, -0.88235295],\n",
       "         [-0.8509804 , -0.8745098 , -0.9137255 ],\n",
       "         [-0.8509804 , -0.8901961 , -0.88235295]],\n",
       "\n",
       "        [[-0.77254903, -0.79607844, -0.827451  ],\n",
       "         [-0.7490196 , -0.77254903, -0.8039216 ],\n",
       "         [-0.7490196 , -0.77254903, -0.8039216 ],\n",
       "         ...,\n",
       "         [-0.827451  , -0.84313726, -0.88235295],\n",
       "         [-0.8352941 , -0.8509804 , -0.8901961 ],\n",
       "         [-0.84313726, -0.88235295, -0.8745098 ]],\n",
       "\n",
       "        ...,\n",
       "\n",
       "        [[ 0.3803922 ,  0.17647064,  0.04313731],\n",
       "         [ 0.4666667 ,  0.26274514,  0.12941182],\n",
       "         [ 0.5294118 ,  0.32549024,  0.19215691],\n",
       "         ...,\n",
       "         [-0.10588235, -0.29411763, -0.38823527],\n",
       "         [-0.11372548, -0.30196077, -0.3960784 ],\n",
       "         [-0.1607843 , -0.2862745 , -0.4352941 ]],\n",
       "\n",
       "        [[ 0.38823533,  0.18431377,  0.05098045],\n",
       "         [ 0.4431373 ,  0.23921573,  0.10588241],\n",
       "         [ 0.4666667 ,  0.26274514,  0.12941182],\n",
       "         ...,\n",
       "         [-0.08235294, -0.27058822, -0.35686272],\n",
       "         [-0.12156862, -0.3098039 , -0.40392154],\n",
       "         [-0.15294117, -0.29411763, -0.42745095]],\n",
       "\n",
       "        [[ 0.37254906,  0.1686275 ,  0.03529418],\n",
       "         [ 0.3803922 ,  0.17647064,  0.04313731],\n",
       "         [ 0.39607847,  0.19215691,  0.05882359],\n",
       "         ...,\n",
       "         [-0.1607843 , -0.34117645, -0.4352941 ],\n",
       "         [-0.1607843 , -0.3490196 , -0.44313723],\n",
       "         [-0.19215685, -0.3333333 , -0.46666664]]],\n",
       "\n",
       "\n",
       "       [[[ 1.        ,  0.85882354,  0.56078434],\n",
       "         [ 0.9607843 ,  0.7647059 ,  0.47450984],\n",
       "         [ 0.9764706 ,  0.7647059 ,  0.47450984],\n",
       "         ...,\n",
       "         [ 0.5372549 ,  0.48235297,  0.45882356],\n",
       "         [ 0.5529412 ,  0.4901961 ,  0.48235297],\n",
       "         [ 0.56078434,  0.4901961 ,  0.45882356]],\n",
       "\n",
       "        [[ 0.99215686,  0.78039217,  0.4901961 ],\n",
       "         [ 0.9529412 ,  0.7254902 ,  0.43529415],\n",
       "         [ 0.9764706 ,  0.7254902 ,  0.4431373 ],\n",
       "         ...,\n",
       "         [ 0.54509807,  0.4901961 ,  0.4666667 ],\n",
       "         [ 0.54509807,  0.47450984,  0.47450984],\n",
       "         [ 0.5686275 ,  0.49803925,  0.4666667 ]],\n",
       "\n",
       "        [[ 1.        ,  0.75686276,  0.47450984],\n",
       "         [ 1.        ,  0.75686276,  0.47450984],\n",
       "         [ 0.99215686,  0.70980394,  0.427451  ],\n",
       "         ...,\n",
       "         [ 0.54509807,  0.4901961 ,  0.4666667 ],\n",
       "         [ 0.54509807,  0.48235297,  0.48235297],\n",
       "         [ 0.58431375,  0.5137255 ,  0.48235297]],\n",
       "\n",
       "        ...,\n",
       "\n",
       "        [[ 0.60784316,  0.73333335,  0.85882354],\n",
       "         [ 0.6156863 ,  0.7411765 ,  0.8666667 ],\n",
       "         [ 0.5921569 ,  0.7176471 ,  0.84313726],\n",
       "         ...,\n",
       "         [ 0.6       ,  0.7411765 ,  0.85882354],\n",
       "         [ 0.62352943,  0.7647059 ,  0.88235295],\n",
       "         [ 0.6156863 ,  0.7254902 ,  0.8509804 ]],\n",
       "\n",
       "        [[ 0.6784314 ,  0.8039216 ,  0.92941177],\n",
       "         [ 0.73333335,  0.85882354,  0.96862745],\n",
       "         [ 0.7176471 ,  0.84313726,  0.9529412 ],\n",
       "         ...,\n",
       "         [ 0.6       ,  0.75686276,  0.8745098 ],\n",
       "         [ 0.5764706 ,  0.73333335,  0.8509804 ],\n",
       "         [ 0.6       ,  0.7254902 ,  0.84313726]],\n",
       "\n",
       "        [[ 0.21568632,  0.4039216 ,  0.6784314 ],\n",
       "         [ 0.81960785,  0.92156863,  0.9607843 ],\n",
       "         [ 0.85882354,  0.9764706 ,  0.99215686],\n",
       "         ...,\n",
       "         [ 0.6       ,  0.75686276,  0.8901961 ],\n",
       "         [ 0.60784316,  0.7647059 ,  0.90588236],\n",
       "         [ 0.6156863 ,  0.7882353 ,  0.92941177]]]], dtype=float32)"
      ]
     },
     "execution_count": 9,
     "metadata": {},
     "output_type": "execute_result"
    }
   ],
   "source": [
    "X_val"
   ]
  },
  {
   "cell_type": "markdown",
   "metadata": {},
   "source": [
    "### CREATION DU MODELE"
   ]
  },
  {
   "cell_type": "code",
   "execution_count": 10,
   "metadata": {},
   "outputs": [],
   "source": [
    "# On importe les modele MobileNet.V2 comme modèle de base\n",
    "base_model = tf.keras.applications.MobileNetV2(input_shape=(160,160,3),\n",
    "                                               include_top=False,\n",
    "                                               weights='imagenet')"
   ]
  },
  {
   "cell_type": "code",
   "execution_count": 11,
   "metadata": {},
   "outputs": [],
   "source": [
    "# On vient créer une couche de pooling\n",
    "sortie_conv =  tf.keras.Sequential()\n",
    "sortie_conv.add(tf.keras.layers.GlobalAveragePooling2D())\n",
    "#sortie_conv.add(tf.keras.layers.Flatten())\n",
    "sortie_conv.add(tf.keras.layers.Dense(1))"
   ]
  },
  {
   "cell_type": "code",
   "execution_count": 12,
   "metadata": {},
   "outputs": [],
   "source": [
    "# On vient bloquer les poids du modèle de base\n",
    "base_model.trainable = False\n"
   ]
  },
  {
   "cell_type": "code",
   "execution_count": 13,
   "metadata": {},
   "outputs": [],
   "source": [
    "# On combine tout ça pour avoir notre modèle\n",
    "model = tf.keras.Sequential([\n",
    "  base_model,\n",
    "  sortie_conv,\n",
    "  \n",
    "])"
   ]
  },
  {
   "cell_type": "code",
   "execution_count": 14,
   "metadata": {},
   "outputs": [],
   "source": [
    "base_learning_rate = 0.0001\n",
    "model.compile(optimizer=tf.keras.optimizers.RMSprop(lr=base_learning_rate),\n",
    "              loss=tf.keras.losses.BinaryCrossentropy(from_logits=True),\n",
    "              metrics=['accuracy'])"
   ]
  },
  {
   "cell_type": "code",
   "execution_count": 15,
   "metadata": {},
   "outputs": [
    {
     "name": "stdout",
     "output_type": "stream",
     "text": [
      "Model: \"sequential_1\"\n",
      "_________________________________________________________________\n",
      "Layer (type)                 Output Shape              Param #   \n",
      "=================================================================\n",
      "mobilenetv2_1.00_160 (Model) (None, 5, 5, 1280)        2257984   \n",
      "_________________________________________________________________\n",
      "sequential (Sequential)      (None, 1)                 1281      \n",
      "=================================================================\n",
      "Total params: 2,259,265\n",
      "Trainable params: 1,281\n",
      "Non-trainable params: 2,257,984\n",
      "_________________________________________________________________\n"
     ]
    }
   ],
   "source": [
    "model.summary()"
   ]
  },
  {
   "cell_type": "code",
   "execution_count": 16,
   "metadata": {},
   "outputs": [
    {
     "name": "stdout",
     "output_type": "stream",
     "text": [
      "WARNING:tensorflow:sample_weight modes were coerced from\n",
      "  ...\n",
      "    to  \n",
      "  ['...']\n",
      "Train for 14 steps\n",
      "Epoch 1/10\n",
      "14/14 [==============================] - 12s 891ms/step - loss: 0.6827 - accuracy: 0.5633\n",
      "Epoch 2/10\n",
      "14/14 [==============================] - 8s 581ms/step - loss: 0.6410 - accuracy: 0.6068\n",
      "Epoch 3/10\n",
      "14/14 [==============================] - 8s 583ms/step - loss: 0.6002 - accuracy: 0.6422\n",
      "Epoch 4/10\n",
      "14/14 [==============================] - 8s 582ms/step - loss: 0.5740 - accuracy: 0.6726\n",
      "Epoch 5/10\n",
      "14/14 [==============================] - 8s 582ms/step - loss: 0.5399 - accuracy: 0.7006\n",
      "Epoch 6/10\n",
      "14/14 [==============================] - 8s 580ms/step - loss: 0.5059 - accuracy: 0.7413\n",
      "Epoch 7/10\n",
      "14/14 [==============================] - 9s 625ms/step - loss: 0.4788 - accuracy: 0.7470\n",
      "Epoch 8/10\n",
      "14/14 [==============================] - 8s 585ms/step - loss: 0.4515 - accuracy: 0.7693\n",
      "Epoch 9/10\n",
      "14/14 [==============================] - 8s 591ms/step - loss: 0.4399 - accuracy: 0.7894\n",
      "Epoch 10/10\n",
      "14/14 [==============================] - 8s 587ms/step - loss: 0.4168 - accuracy: 0.8128\n"
     ]
    }
   ],
   "source": [
    "history = model.fit(\n",
    "   datagen.flow(X_val, y_val, batch_size=128),\n",
    "    epochs=10,\n",
    "    \n",
    ")"
   ]
  },
  {
   "cell_type": "code",
   "execution_count": 17,
   "metadata": {},
   "outputs": [
    {
     "data": {
      "image/png": "[encoded data removed]",
      "text/plain": [
       "<Figure size 576x576 with 2 Axes>"
      ]
     },
     "metadata": {
      "needs_background": "light"
     },
     "output_type": "display_data"
    }
   ],
   "source": [
    "acc = history.history['accuracy']\n",
    "\n",
    "\n",
    "loss = history.history['loss']\n",
    "\n",
    "\n",
    "plt.figure(figsize=(8, 8))\n",
    "plt.subplot(2, 1, 1)\n",
    "plt.plot(acc, label='Training Accuracy')\n",
    "\n",
    "plt.legend(loc='lower right')\n",
    "plt.ylabel('Accuracy')\n",
    "plt.ylim([min(plt.ylim()),1])\n",
    "plt.title('Training Accuracy')\n",
    "\n",
    "plt.subplot(2, 1, 2)\n",
    "plt.plot(loss, label='Training Loss')\n",
    "\n",
    "plt.legend(loc='upper right')\n",
    "plt.ylabel('Cross Entropy')\n",
    "plt.ylim([0,1.0])\n",
    "plt.title('Training Loss')\n",
    "plt.xlabel('epoch')\n",
    "plt.show()"
   ]
  },
  {
   "cell_type": "markdown",
   "metadata": {},
   "source": [
    "## FINE TUNING"
   ]
  },
  {
   "cell_type": "code",
   "execution_count": 18,
   "metadata": {},
   "outputs": [],
   "source": [
    "# On rend les poids initiaux modifiable\n",
    "base_model.trainable = True\n",
    "\n",
    "# Par contre on va préciser a partir de ou car pas besoin de modifier tous les poids\n",
    "fine_tune_at = 100\n",
    "\n",
    "for layer in base_model.layers[:fine_tune_at]:\n",
    "  layer.trainable =  False\n",
    "\n"
   ]
  },
  {
   "cell_type": "code",
   "execution_count": 19,
   "metadata": {},
   "outputs": [],
   "source": [
    "model.compile(loss=tf.losses.BinaryCrossentropy(from_logits=True),\n",
    "              optimizer = tf.optimizers.RMSprop(lr=base_learning_rate/10),\n",
    "              metrics=[tf.metrics.BinaryAccuracy(threshold=0.0, name='accuracy')])\n"
   ]
  },
  {
   "cell_type": "code",
   "execution_count": 20,
   "metadata": {},
   "outputs": [
    {
     "name": "stdout",
     "output_type": "stream",
     "text": [
      "WARNING:tensorflow:sample_weight modes were coerced from\n",
      "  ...\n",
      "    to  \n",
      "  ['...']\n",
      "Train for 14 steps\n",
      "Epoch 1/10\n",
      "14/14 [==============================] - 14s 970ms/step - loss: 0.3578 - accuracy: 0.8672\n",
      "Epoch 2/10\n",
      "14/14 [==============================] - 8s 577ms/step - loss: 0.2887 - accuracy: 0.8993\n",
      "Epoch 3/10\n",
      "14/14 [==============================] - 8s 584ms/step - loss: 0.2509 - accuracy: 0.9130\n",
      "Epoch 4/10\n",
      "14/14 [==============================] - 8s 583ms/step - loss: 0.2235 - accuracy: 0.9239\n",
      "Epoch 5/10\n",
      "14/14 [==============================] - 8s 590ms/step - loss: 0.1956 - accuracy: 0.9313\n",
      "Epoch 6/10\n",
      "14/14 [==============================] - 8s 605ms/step - loss: 0.1762 - accuracy: 0.9422\n",
      "Epoch 7/10\n",
      "14/14 [==============================] - 8s 593ms/step - loss: 0.1625 - accuracy: 0.9388\n",
      "Epoch 8/10\n",
      "14/14 [==============================] - 8s 594ms/step - loss: 0.1454 - accuracy: 0.9502\n",
      "Epoch 9/10\n",
      "14/14 [==============================] - 8s 584ms/step - loss: 0.1287 - accuracy: 0.9605\n",
      "Epoch 10/10\n",
      "14/14 [==============================] - 8s 577ms/step - loss: 0.1239 - accuracy: 0.9605\n"
     ]
    }
   ],
   "source": [
    "\n",
    "history_fine = model.fit( datagen.flow(X_val, y_val, batch_size=128),\n",
    "    epochs=10,\n",
    "    )\n"
   ]
  },
  {
   "cell_type": "code",
   "execution_count": 22,
   "metadata": {},
   "outputs": [
    {
     "name": "stdout",
     "output_type": "stream",
     "text": [
      "15715/15715 [==============================] - 24s 2ms/sample - loss: 0.0932 - accuracy: 0.9649\n",
      "test loss, test acc: [0.09321673689727149, 0.9648743]\n"
     ]
    }
   ],
   "source": [
    "results = model.evaluate(X_train, y_train, batch_size=128)\n",
    "print(\"test loss, test acc:\", results)\n"
   ]
  },
  {
   "cell_type": "code",
   "execution_count": null,
   "metadata": {},
   "outputs": [],
   "source": []
  }
 ],
 "metadata": {
  "kernelspec": {
   "display_name": "Python 3",
   "language": "python",
   "name": "python3"
  },
  "language_info": {
   "codemirror_mode": {
    "name": "ipython",
    "version": 3
   },
   "file_extension": ".py",
   "mimetype": "text/x-python",
   "name": "python",
   "nbconvert_exporter": "python",
   "pygments_lexer": "ipython3",
   "version": "3.7.7"
  }
 },
 "nbformat": 4,
 "nbformat_minor": 4
}
