{
 "cells": [
  {
   "cell_type": "markdown",
   "metadata": {},
   "source": [
    "# RESEAUX RECURENTS\n"
   ]
  },
  {
   "cell_type": "markdown",
   "metadata": {},
   "source": [
    "Les réseaux de neurones récurrents (ou RNN pour Recurrent Neural Networks) sont une catégorie de réseaux de neurones dédiée au traitement de séquences"
   ]
  },
  {
   "cell_type": "markdown",
   "metadata": {},
   "source": [
    "<img src='images/rnn1.png'>\n"
   ]
  },
  {
   "cell_type": "markdown",
   "metadata": {},
   "source": [
    "<img src='images/rnn2.jpg'>"
   ]
  },
  {
   "cell_type": "markdown",
   "metadata": {},
   "source": [
    "1 - Classification d'image\n",
    "2 - Description d'images.\n",
    "3 - Analyse des sentiments.\n",
    "4 - Traduction\n",
    "5 - Classification de vidéos"
   ]
  },
  {
   "cell_type": "code",
   "execution_count": 1,
   "metadata": {},
   "outputs": [],
   "source": [
    "import tensorflow as tf\n",
    "from tensorflow import keras\n",
    "import pandas as pd\n",
    "import numpy as np\n",
    "import matplotlib.pyplot as plt\n",
    "import os\n",
    "import time\n",
    "import re\n",
    "import string"
   ]
  },
  {
   "cell_type": "code",
   "execution_count": 4,
   "metadata": {},
   "outputs": [],
   "source": [
    "df = pd.read_csv(\"datasets/twitter.csv\")"
   ]
  },
  {
   "cell_type": "code",
   "execution_count": 5,
   "metadata": {},
   "outputs": [
    {
     "data": {
      "text/html": [
       "<div>\n",
       "<style scoped>\n",
       "    .dataframe tbody tr th:only-of-type {\n",
       "        vertical-align: middle;\n",
       "    }\n",
       "\n",
       "    .dataframe tbody tr th {\n",
       "        vertical-align: top;\n",
       "    }\n",
       "\n",
       "    .dataframe thead th {\n",
       "        text-align: right;\n",
       "    }\n",
       "</style>\n",
       "<table border=\"1\" class=\"dataframe\">\n",
       "  <thead>\n",
       "    <tr style=\"text-align: right;\">\n",
       "      <th></th>\n",
       "      <th>id</th>\n",
       "      <th>keyword</th>\n",
       "      <th>location</th>\n",
       "      <th>text</th>\n",
       "      <th>target</th>\n",
       "    </tr>\n",
       "  </thead>\n",
       "  <tbody>\n",
       "    <tr>\n",
       "      <th>0</th>\n",
       "      <td>1</td>\n",
       "      <td>NaN</td>\n",
       "      <td>NaN</td>\n",
       "      <td>Our Deeds are the Reason of this #earthquake M...</td>\n",
       "      <td>1</td>\n",
       "    </tr>\n",
       "    <tr>\n",
       "      <th>1</th>\n",
       "      <td>4</td>\n",
       "      <td>NaN</td>\n",
       "      <td>NaN</td>\n",
       "      <td>Forest fire near La Ronge Sask. Canada</td>\n",
       "      <td>1</td>\n",
       "    </tr>\n",
       "    <tr>\n",
       "      <th>2</th>\n",
       "      <td>5</td>\n",
       "      <td>NaN</td>\n",
       "      <td>NaN</td>\n",
       "      <td>All residents asked to 'shelter in place' are ...</td>\n",
       "      <td>1</td>\n",
       "    </tr>\n",
       "    <tr>\n",
       "      <th>3</th>\n",
       "      <td>6</td>\n",
       "      <td>NaN</td>\n",
       "      <td>NaN</td>\n",
       "      <td>13,000 people receive #wildfires evacuation or...</td>\n",
       "      <td>1</td>\n",
       "    </tr>\n",
       "    <tr>\n",
       "      <th>4</th>\n",
       "      <td>7</td>\n",
       "      <td>NaN</td>\n",
       "      <td>NaN</td>\n",
       "      <td>Just got sent this photo from Ruby #Alaska as ...</td>\n",
       "      <td>1</td>\n",
       "    </tr>\n",
       "  </tbody>\n",
       "</table>\n",
       "</div>"
      ],
      "text/plain": [
       "   id keyword location                                               text  \\\n",
       "0   1     NaN      NaN  Our Deeds are the Reason of this #earthquake M...   \n",
       "1   4     NaN      NaN             Forest fire near La Ronge Sask. Canada   \n",
       "2   5     NaN      NaN  All residents asked to 'shelter in place' are ...   \n",
       "3   6     NaN      NaN  13,000 people receive #wildfires evacuation or...   \n",
       "4   7     NaN      NaN  Just got sent this photo from Ruby #Alaska as ...   \n",
       "\n",
       "   target  \n",
       "0       1  \n",
       "1       1  \n",
       "2       1  \n",
       "3       1  \n",
       "4       1  "
      ]
     },
     "execution_count": 5,
     "metadata": {},
     "output_type": "execute_result"
    }
   ],
   "source": [
    "df.head()"
   ]
  },
  {
   "cell_type": "code",
   "execution_count": 6,
   "metadata": {},
   "outputs": [
    {
     "name": "stdout",
     "output_type": "stream",
     "text": [
      "3271\n",
      "4342\n"
     ]
    }
   ],
   "source": [
    "## Répartition du dataset\n",
    "print((df.target == 1).sum()) # Catastrophe\n",
    "print((df.target == 0).sum()) # Non"
   ]
  },
  {
   "cell_type": "markdown",
   "metadata": {},
   "source": [
    "## PREPROCESSING"
   ]
  },
  {
   "cell_type": "markdown",
   "metadata": {},
   "source": [
    "### LES STOPWORDS ET LES CARACTERES INUTILES"
   ]
  },
  {
   "cell_type": "markdown",
   "metadata": {},
   "source": [
    "En NLP les stopword sont des mots n'ajoutant aucun sens particulier a une phrase. En français on parle de mot vide ( de sens ). Il convient donc de les supprimer"
   ]
  },
  {
   "cell_type": "code",
   "execution_count": 7,
   "metadata": {},
   "outputs": [
    {
     "name": "stderr",
     "output_type": "stream",
     "text": [
      "[nltk_data] Downloading package stopwords to\n",
      "[nltk_data]     C:\\Users\\curun\\AppData\\Roaming\\nltk_data...\n",
      "[nltk_data]   Package stopwords is already up-to-date!\n"
     ]
    }
   ],
   "source": [
    "# SI NLTK n'est pas installé pip install NLK\n",
    "import nltk\n",
    "# On télécharge les stopwords\n",
    "nltk.download('stopwords')\n",
    "# On importe les stopwords\n",
    "from nltk.corpus import stopwords\n",
    "# Les données étant en anglais on définit le lanqage des stopwords à utiliser\n",
    "stop = set(stopwords.words(\"english\"))\n"
   ]
  },
  {
   "cell_type": "markdown",
   "metadata": {},
   "source": [
    "En plus de ces mots vides, il existe bon nombre de caractère inutiles pour le NLP comme la ponctuation ou les url ... On va donc créer des fonctions nous permettant de nettoyer nos données."
   ]
  },
  {
   "cell_type": "code",
   "execution_count": 8,
   "metadata": {},
   "outputs": [],
   "source": [
    "#Fonction supprimant les stopwords\n",
    "def remove_stopwords(text):\n",
    "    filtered_words = [word.lower() for word in text.split() if word.lower() not in stop]\n",
    "    return \" \".join(filtered_words)\n",
    "\n",
    "# Fonction de suppression des url\n",
    "def text_cleaning(text):\n",
    "  text = re.sub(r'@[A-Za-z0-9]+', '', text)     # Supp @\n",
    "  text = re.sub(r'@[A-Za-zA-Z0-9]+', '', text)  # Supp @\n",
    "  text = re.sub(r'@[A-Za-z]+', '', text)        # Supp @\n",
    "  text = re.sub(r'@[-)]+', '', text)            # Supp @\n",
    "  text = re.sub(r'#', '', text )                # Supp #\n",
    "  text = re.sub(r'RT[\\s]+', '', text)           # Supp RT\n",
    "  text = re.sub(r'https?\\/\\/\\S+', '', text)     # Supp Lien\n",
    "  text = re.sub(r'&[a-z;]+', '', text)          # Supp '&gt;'\n",
    "\n",
    "  return text\n",
    "\n",
    "# Fonction de suppression la ponctuation\n",
    "def remove_punct(text):\n",
    "    translator = str.maketrans(\"\", \"\", string.punctuation)\n",
    "    return text.translate(translator)"
   ]
  },
  {
   "cell_type": "code",
   "execution_count": 9,
   "metadata": {},
   "outputs": [],
   "source": [
    "# On supprime les stopwords\n",
    "df[\"text\"] = df.text.map(remove_stopwords)\n",
    "# On supprime les URL de nos données\n",
    "df[\"text\"] = df.text.map(text_cleaning) \n",
    "# On supprime la ponctuation\n",
    "df[\"text\"] = df.text.map(remove_punct)"
   ]
  },
  {
   "cell_type": "code",
   "execution_count": 10,
   "metadata": {},
   "outputs": [
    {
     "data": {
      "text/plain": [
       "0            deeds reason earthquake may allah forgive us\n",
       "1                   forest fire near la ronge sask canada\n",
       "2       residents asked shelter place notified officer...\n",
       "3       13000 people receive wildfires evacuation orde...\n",
       "4       got sent photo ruby alaska smoke wildfires pou...\n",
       "                              ...                        \n",
       "7608    two giant cranes holding bridge collapse nearb...\n",
       "7609    ahrary  control wild fires california even nor...\n",
       "7610    m194 0104 utc5km volcano hawaii httptcozdtoyd8ebj\n",
       "7611    police investigating ebike collided car little...\n",
       "7612    latest homes razed northern california wildfir...\n",
       "Name: text, Length: 7613, dtype: object"
      ]
     },
     "execution_count": 10,
     "metadata": {},
     "output_type": "execute_result"
    }
   ],
   "source": [
    "# Les données néttoyées\n",
    "df.text"
   ]
  },
  {
   "cell_type": "code",
   "execution_count": 11,
   "metadata": {},
   "outputs": [],
   "source": [
    "from collections import Counter\n",
    "# Fonction retournant le nombre de mot unique\n",
    "def counter_word(text_col):\n",
    "    count = Counter()\n",
    "    for text in text_col.values:\n",
    "        for word in text.split():\n",
    "            count[word] += 1\n",
    "    return count\n",
    "counter = counter_word(df.text)"
   ]
  },
  {
   "cell_type": "code",
   "execution_count": 12,
   "metadata": {},
   "outputs": [],
   "source": [
    "# On stocke le nombre de mot unique on s'en servira plus tard\n",
    "num_unique_words = len(counter)"
   ]
  },
  {
   "cell_type": "markdown",
   "metadata": {},
   "source": [
    "### SEPARATION DU DATASET"
   ]
  },
  {
   "cell_type": "code",
   "execution_count": 13,
   "metadata": {},
   "outputs": [],
   "source": [
    "# On sépare notre dataset en jeu d'entairenement et de validation\n",
    "from sklearn.model_selection import train_test_split\n",
    "\n",
    "train_df,val_df = train_test_split(df,test_size=0.2)\n",
    "\n",
    "\n",
    "# On sépare les données de la cible et on créé des tableaux pour stocker tout ça\n",
    "\n",
    "train_phrases = train_df.text.to_numpy()\n",
    "train_labels = train_df.target.to_numpy()\n",
    "val_phrases = val_df.text.to_numpy()\n",
    "val_labels = val_df.target.to_numpy()\n"
   ]
  },
  {
   "cell_type": "markdown",
   "metadata": {},
   "source": [
    "### TOKENIZATION"
   ]
  },
  {
   "cell_type": "markdown",
   "metadata": {},
   "source": [
    "Une machine ça ne comprend pas le texte, une machine ça traite des nombres, des chiffres, des vecteurs ...\n",
    "Dans cette partie on va donc transformer notre texte pour qu'une machine le comprenne.\n",
    "Lecture sur le sujet :\n",
    "https://medium.com/@canerkilinc/hands-on-tensorflow-tokenizer-for-nlp-392c97d5874d"
   ]
  },
  {
   "cell_type": "code",
   "execution_count": 14,
   "metadata": {},
   "outputs": [],
   "source": [
    "# Tokenize\n",
    "from tensorflow.keras.preprocessing.text import Tokenizer\n",
    "\n",
    "# On transforme nos mots en vecteurs d'entier\n",
    "tokenizer = Tokenizer(num_words=num_unique_words)\n",
    "tokenizer.fit_on_texts(train_phrases) \n"
   ]
  },
  {
   "cell_type": "code",
   "execution_count": 15,
   "metadata": {},
   "outputs": [],
   "source": [
    "# On transforme nos phrases en séquences d'entier\n",
    "train_sequences = tokenizer.texts_to_sequences(train_phrases)\n",
    "val_sequences = tokenizer.texts_to_sequences(val_phrases)\n"
   ]
  },
  {
   "cell_type": "code",
   "execution_count": 16,
   "metadata": {},
   "outputs": [
    {
     "name": "stdout",
     "output_type": "stream",
     "text": [
      "tracy blight thank following me\n",
      "[5695, 558, 457, 841, 154]\n"
     ]
    }
   ],
   "source": [
    "print(train_phrases[1])\n",
    "print(train_sequences[1])\n"
   ]
  },
  {
   "cell_type": "markdown",
   "metadata": {},
   "source": [
    "### PAD"
   ]
  },
  {
   "cell_type": "markdown",
   "metadata": {},
   "source": [
    "Les séquences ( phrases ) que nous passerons aux modèles doivent avoir la même longeur, le même nombre de mot. Dans le cas qui nous intéresse il est évident que des tweets n'ont pas forcément le même nombre de mot il va donc falloir ajuster chaque séquence en conséquence.\n",
    "Lecture sur le sujet :\n",
    "https://medium.com/@canerkilinc/padding-for-nlp-7dd8598c916a"
   ]
  },
  {
   "cell_type": "code",
   "execution_count": 17,
   "metadata": {},
   "outputs": [],
   "source": [
    "# On importe de tensorFlow\n",
    "from tensorflow.keras.preprocessing.sequence import pad_sequences\n",
    "# On définit la longueur max de chaque séquence.\n",
    "max_length = 20\n",
    "# On \"pad\" nos phrases\n",
    "train_padded = pad_sequences(train_sequences, maxlen=max_length, padding=\"post\", truncating=\"post\")\n",
    "\n",
    "val_padded = pad_sequences(val_sequences, maxlen=max_length, padding=\"post\", truncating=\"post\")"
   ]
  },
  {
   "cell_type": "code",
   "execution_count": 18,
   "metadata": {},
   "outputs": [
    {
     "name": "stdout",
     "output_type": "stream",
     "text": [
      "tracy blight thank following me\n",
      "[5695, 558, 457, 841, 154]\n",
      "[5695  558  457  841  154    0    0    0    0    0    0    0    0    0\n",
      "    0    0    0    0    0    0]\n"
     ]
    }
   ],
   "source": [
    "# Vérification\n",
    "print(train_phrases[1])\n",
    "print(train_sequences[1])\n",
    "print(train_padded[1])"
   ]
  },
  {
   "cell_type": "code",
   "execution_count": 19,
   "metadata": {},
   "outputs": [],
   "source": [
    "# Fonction de decryptage\n",
    "def decode(sequence):\n",
    "    return \" \".join([word_index.get(idx, \"?\") for idx in sequence])"
   ]
  },
  {
   "cell_type": "code",
   "execution_count": 20,
   "metadata": {},
   "outputs": [
    {
     "name": "stdout",
     "output_type": "stream",
     "text": [
      "[5695, 558, 457, 841, 154]\n",
      "tracy blight thank following me\n"
     ]
    }
   ],
   "source": [
    "word_index = tokenizer.word_index\n",
    "word_index = reverse_word_index = dict([(idx, word) for (word, idx) in word_index.items()])\n",
    "decoded_text = decode(train_sequences[1])\n",
    "\n",
    "print(train_sequences[1])\n",
    "print(decoded_text)\n",
    "\n"
   ]
  },
  {
   "cell_type": "markdown",
   "metadata": {},
   "source": [
    "## CREATION DU MODELE"
   ]
  },
  {
   "cell_type": "code",
   "execution_count": 21,
   "metadata": {},
   "outputs": [],
   "source": [
    "from tensorflow.keras import layers"
   ]
  },
  {
   "cell_type": "code",
   "execution_count": 26,
   "metadata": {},
   "outputs": [
    {
     "name": "stdout",
     "output_type": "stream",
     "text": [
      "Model: \"sequential_2\"\n",
      "_________________________________________________________________\n",
      "Layer (type)                 Output Shape              Param #   \n",
      "=================================================================\n",
      "embedding_2 (Embedding)      (None, 20, 32)            659872    \n",
      "_________________________________________________________________\n",
      "lstm_2 (LSTM)                (None, 64)                24832     \n",
      "_________________________________________________________________\n",
      "dense_2 (Dense)              (None, 1)                 65        \n",
      "=================================================================\n",
      "Total params: 684,769\n",
      "Trainable params: 684,769\n",
      "Non-trainable params: 0\n",
      "_________________________________________________________________\n"
     ]
    }
   ],
   "source": [
    "model = keras.models.Sequential()\n",
    "model.add(layers.Embedding(num_unique_words, 32, input_length=max_length))\n",
    "\n",
    "model.add(layers.LSTM(64, dropout=0.5))\n",
    "\n",
    "model.add(layers.Dense(1, activation=\"sigmoid\"))\n",
    "\n",
    "model.summary()"
   ]
  },
  {
   "cell_type": "code",
   "execution_count": 27,
   "metadata": {},
   "outputs": [],
   "source": [
    "loss = keras.losses.BinaryCrossentropy(from_logits=False)\n",
    "optim = keras.optimizers.Adam(lr=0.001)\n",
    "metrics = [\"accuracy\"]\n",
    "\n",
    "model.compile(loss=loss, optimizer=optim, metrics=metrics)"
   ]
  },
  {
   "cell_type": "code",
   "execution_count": 28,
   "metadata": {},
   "outputs": [
    {
     "name": "stdout",
     "output_type": "stream",
     "text": [
      "Train on 6090 samples, validate on 1523 samples\n",
      "Epoch 1/20\n",
      "6090/6090 - 4s - loss: 0.5650 - accuracy: 0.6923 - val_loss: 0.4762 - val_accuracy: 0.7787\n",
      "Epoch 2/20\n",
      "6090/6090 - 2s - loss: 0.3339 - accuracy: 0.8634 - val_loss: 0.4717 - val_accuracy: 0.7905\n",
      "Epoch 3/20\n",
      "6090/6090 - 2s - loss: 0.2073 - accuracy: 0.9238 - val_loss: 0.5890 - val_accuracy: 0.7715\n",
      "Epoch 4/20\n",
      "6090/6090 - 2s - loss: 0.1362 - accuracy: 0.9522 - val_loss: 0.6626 - val_accuracy: 0.7617\n",
      "Epoch 5/20\n",
      "6090/6090 - 2s - loss: 0.0956 - accuracy: 0.9667 - val_loss: 0.7414 - val_accuracy: 0.7695\n",
      "Epoch 6/20\n",
      "6090/6090 - 2s - loss: 0.0735 - accuracy: 0.9741 - val_loss: 0.7297 - val_accuracy: 0.7623\n",
      "Epoch 7/20\n",
      "6090/6090 - 2s - loss: 0.0611 - accuracy: 0.9800 - val_loss: 1.0263 - val_accuracy: 0.7617\n",
      "Epoch 8/20\n",
      "6090/6090 - 2s - loss: 0.0516 - accuracy: 0.9834 - val_loss: 0.7816 - val_accuracy: 0.7656\n",
      "Epoch 9/20\n",
      "6090/6090 - 2s - loss: 0.0483 - accuracy: 0.9857 - val_loss: 0.7871 - val_accuracy: 0.7577\n",
      "Epoch 10/20\n",
      "6090/6090 - 2s - loss: 0.0368 - accuracy: 0.9860 - val_loss: 1.1511 - val_accuracy: 0.7551\n",
      "Epoch 11/20\n",
      "6090/6090 - 2s - loss: 0.0390 - accuracy: 0.9875 - val_loss: 1.1504 - val_accuracy: 0.7413\n",
      "Epoch 12/20\n",
      "6090/6090 - 2s - loss: 0.0303 - accuracy: 0.9901 - val_loss: 1.2460 - val_accuracy: 0.7433\n",
      "Epoch 13/20\n",
      "6090/6090 - 2s - loss: 0.0303 - accuracy: 0.9900 - val_loss: 1.0806 - val_accuracy: 0.7446\n",
      "Epoch 14/20\n",
      "6090/6090 - 2s - loss: 0.0223 - accuracy: 0.9931 - val_loss: 1.4332 - val_accuracy: 0.7492\n",
      "Epoch 15/20\n",
      "6090/6090 - 2s - loss: 0.0240 - accuracy: 0.9926 - val_loss: 1.1920 - val_accuracy: 0.7610\n",
      "Epoch 16/20\n",
      "6090/6090 - 2s - loss: 0.0290 - accuracy: 0.9897 - val_loss: 1.1543 - val_accuracy: 0.7518\n",
      "Epoch 17/20\n",
      "6090/6090 - 2s - loss: 0.0198 - accuracy: 0.9920 - val_loss: 1.1902 - val_accuracy: 0.7347\n",
      "Epoch 18/20\n",
      "6090/6090 - 2s - loss: 0.0217 - accuracy: 0.9926 - val_loss: 1.5045 - val_accuracy: 0.7374\n",
      "Epoch 19/20\n",
      "6090/6090 - 2s - loss: 0.0203 - accuracy: 0.9938 - val_loss: 1.5631 - val_accuracy: 0.7452\n",
      "Epoch 20/20\n",
      "6090/6090 - 2s - loss: 0.0224 - accuracy: 0.9933 - val_loss: 1.1758 - val_accuracy: 0.7498\n"
     ]
    }
   ],
   "source": [
    "r = model.fit(train_padded, train_labels, epochs=20, validation_data=(val_padded, val_labels), verbose=2)"
   ]
  },
  {
   "cell_type": "code",
   "execution_count": 23,
   "metadata": {},
   "outputs": [
    {
     "data": {
      "text/plain": [
       "<matplotlib.legend.Legend at 0x29de943f1c8>"
      ]
     },
     "execution_count": 23,
     "metadata": {},
     "output_type": "execute_result"
    },
    {
     "data": {
      "image/png": "[encoded data removed]",
      "text/plain": [
       "<Figure size 432x288 with 1 Axes>"
      ]
     },
     "metadata": {
      "needs_background": "light"
     },
     "output_type": "display_data"
    }
   ],
   "source": [
    "plt.plot(r.history['loss'], label='loss')\n",
    "plt.plot(r.history['accuracy'], label= 'accuracy')\n",
    "plt.legend()"
   ]
  },
  {
   "cell_type": "code",
   "execution_count": 24,
   "metadata": {},
   "outputs": [],
   "source": [
    "predictions = model.predict(train_padded)\n",
    "predictions = [1 if p > 0.5 else 0 for p in predictions]"
   ]
  },
  {
   "cell_type": "code",
   "execution_count": 25,
   "metadata": {},
   "outputs": [
    {
     "name": "stdout",
     "output_type": "stream",
     "text": [
      "['every time really good day someone ruin'\n",
      " 'bagans sabrina dad rescued dude kept cage weve since 4 httptco1k2phqcuw8'\n",
      " ' please sign share petition save wild horses arizona httptco3tssxphufe '\n",
      " ' game officially collapsed'\n",
      " 'usgs eq 06  8km ssw anza california time20150806 012624 utc20150805 182624 070 httptco3bwwnlsxhb earthquake'\n",
      " 'former township fire truck used philippines  langley times httptcoimilsfxntf filipino'\n",
      " 'sustainability task force presents levy fund emergency services  wdtv httptco2fibe2haxc'\n",
      " 'could billboards hot 100 chart displaced socialmediadriven music charts httptcowvlah8jrxe'\n",
      " 'reddits new content policy goes effect many horrible subreddits banned quarantined httptcom4tczaawpt'\n",
      " 'kill got court day earl']\n",
      "[0 1 0 0 1 0 1 1 0 0]\n"
     ]
    },
    {
     "ename": "AttributeError",
     "evalue": "'int' object has no attribute 'round'",
     "output_type": "error",
     "traceback": [
      "\u001b[1;31m---------------------------------------------------------------------------\u001b[0m",
      "\u001b[1;31mAttributeError\u001b[0m                            Traceback (most recent call last)",
      "\u001b[1;32m<ipython-input-25-d1213de57f92>\u001b[0m in \u001b[0;36m<module>\u001b[1;34m\u001b[0m\n\u001b[0;32m      2\u001b[0m \u001b[1;33m\u001b[0m\u001b[0m\n\u001b[0;32m      3\u001b[0m \u001b[0mprint\u001b[0m\u001b[1;33m(\u001b[0m\u001b[0mtrain_labels\u001b[0m\u001b[1;33m[\u001b[0m\u001b[1;36m10\u001b[0m\u001b[1;33m:\u001b[0m\u001b[1;36m20\u001b[0m\u001b[1;33m]\u001b[0m\u001b[1;33m)\u001b[0m\u001b[1;33m\u001b[0m\u001b[1;33m\u001b[0m\u001b[0m\n\u001b[1;32m----> 4\u001b[1;33m \u001b[0mprint\u001b[0m\u001b[1;33m(\u001b[0m\u001b[0mpredictions\u001b[0m\u001b[1;33m[\u001b[0m\u001b[1;36m15\u001b[0m\u001b[1;33m]\u001b[0m\u001b[1;33m.\u001b[0m\u001b[0mround\u001b[0m\u001b[1;33m(\u001b[0m\u001b[1;33m)\u001b[0m\u001b[1;33m)\u001b[0m\u001b[1;33m\u001b[0m\u001b[1;33m\u001b[0m\u001b[0m\n\u001b[0m",
      "\u001b[1;31mAttributeError\u001b[0m: 'int' object has no attribute 'round'"
     ]
    }
   ],
   "source": [
    "print(train_phrases[10:20])\n",
    "\n",
    "print(train_labels[10:20])\n",
    "print(predictions[15].round())"
   ]
  },
  {
   "cell_type": "code",
   "execution_count": null,
   "metadata": {},
   "outputs": [],
   "source": [
    "def predict_catastrophe(text):\n",
    "  # preprocessing the given text \n",
    "  text = text_cleaning(text[0])\n",
    "  text = remove_punct(text)\n",
    "  text = remove_stopwords(text)\n",
    "  \n",
    "  text_seq = tokenizer.texts_to_sequences(text)\n",
    "  text_pad = pad_sequences(text_seq, maxlen=20)\n",
    "  print(text_pad)\n",
    "  # predicting the class\n",
    "  predicted_sentiment = model.predict(text_pad)\n",
    "  print(predicted_sentiment[0].round())\n",
    " \n",
    "\n"
   ]
  },
  {
   "cell_type": "code",
   "execution_count": null,
   "metadata": {},
   "outputs": [],
   "source": [
    "predict_catastrophe([\"big accident on road 71 !!! ???? \"])"
   ]
  },
  {
   "cell_type": "code",
   "execution_count": null,
   "metadata": {},
   "outputs": [],
   "source": []
  },
  {
   "cell_type": "code",
   "execution_count": null,
   "metadata": {},
   "outputs": [],
   "source": []
  }
 ],
 "metadata": {
  "kernelspec": {
   "display_name": "Python 3",
   "language": "python",
   "name": "python3"
  },
  "language_info": {
   "codemirror_mode": {
    "name": "ipython",
    "version": 3
   },
   "file_extension": ".py",
   "mimetype": "text/x-python",
   "name": "python",
   "nbconvert_exporter": "python",
   "pygments_lexer": "ipython3",
   "version": "3.7.7"
  }
 },
 "nbformat": 4,
 "nbformat_minor": 4
}
